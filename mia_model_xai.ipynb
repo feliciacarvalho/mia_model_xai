{
 "cells": [
  {
   "cell_type": "code",
   "execution_count": 1,
   "metadata": {
    "id": "G5qwQ2q54Kdy"
   },
   "outputs": [
    {
     "name": "stderr",
     "output_type": "stream",
     "text": [
      "2025-01-20 11:58:20.622096: I tensorflow/core/util/port.cc:153] oneDNN custom operations are on. You may see slightly different numerical results due to floating-point round-off errors from different computation orders. To turn them off, set the environment variable `TF_ENABLE_ONEDNN_OPTS=0`.\n",
      "2025-01-20 11:58:20.622568: I external/local_xla/xla/tsl/cuda/cudart_stub.cc:32] Could not find cuda drivers on your machine, GPU will not be used.\n",
      "2025-01-20 11:58:20.624699: I external/local_xla/xla/tsl/cuda/cudart_stub.cc:32] Could not find cuda drivers on your machine, GPU will not be used.\n",
      "2025-01-20 11:58:20.630439: E external/local_xla/xla/stream_executor/cuda/cuda_fft.cc:477] Unable to register cuFFT factory: Attempting to register factory for plugin cuFFT when one has already been registered\n",
      "WARNING: All log messages before absl::InitializeLog() is called are written to STDERR\n",
      "E0000 00:00:1737385100.640064   83135 cuda_dnn.cc:8310] Unable to register cuDNN factory: Attempting to register factory for plugin cuDNN when one has already been registered\n",
      "E0000 00:00:1737385100.642787   83135 cuda_blas.cc:1418] Unable to register cuBLAS factory: Attempting to register factory for plugin cuBLAS when one has already been registered\n",
      "2025-01-20 11:58:20.653382: I tensorflow/core/platform/cpu_feature_guard.cc:210] This TensorFlow binary is optimized to use available CPU instructions in performance-critical operations.\n",
      "To enable the following instructions: AVX2 AVX_VNNI FMA, in other operations, rebuild TensorFlow with the appropriate compiler flags.\n"
     ]
    }
   ],
   "source": [
    "import numpy as np\n",
    "import pandas as pd\n",
    "import matplotlib.pyplot as plt\n",
    "%matplotlib inline\n",
    "import tensorflow.keras as keras\n",
    "\n",
    "from tensorflow.keras.models import Sequential,Model\n",
    "from tensorflow.keras.models import load_model #save and load models\n",
    "from tensorflow.keras.layers import Dense, Dropout, Activation, Flatten\n",
    "from sklearn.preprocessing import LabelEncoder, MinMaxScaler\n",
    "from sklearn.metrics import average_precision_score\n",
    "import tensorflow.keras.backend as k"
   ]
  },
  {
   "cell_type": "code",
   "execution_count": 3,
   "metadata": {
    "id": "S_wJvrUv4t2W"
   },
   "outputs": [],
   "source": [
    "df = pd.read_csv('data/adult.data',  names=[\n",
    "        \"Age\", \"Workclass\", \"fnlwgt\", \"Education\", \"Education-Num\", \"Martial Status\",\n",
    "        \"Occupation\", \"Relationship\", \"Race\", \"Sex\", \"Capital Gain\", \"Capital Loss\",\n",
    "        \"Hours per week\", \"Country\", \"Target\"],\n",
    "        sep=r'\\s*,\\s*',\n",
    "        engine='python',\n",
    "        na_values=\"?\")"
   ]
  },
  {
   "cell_type": "code",
   "execution_count": 4,
   "metadata": {
    "id": "l8g_apGA5xBo"
   },
   "outputs": [],
   "source": [
    "df1 = pd.read_csv(\"data/adult.test\",\n",
    "    names=[\n",
    "        \"Age\", \"Workclass\", \"fnlwgt\", \"Education\", \"Education-Num\", \"Martial Status\",\n",
    "        \"Occupation\", \"Relationship\", \"Race\", \"Sex\", \"Capital Gain\", \"Capital Loss\",\n",
    "        \"Hours per week\", \"Country\", \"Target\"],\n",
    "        sep=r'\\s*,\\s*',\n",
    "        engine='python',\\\n",
    "        na_values=\"?\")"
   ]
  },
  {
   "cell_type": "code",
   "execution_count": 5,
   "metadata": {
    "id": "fLvIAEEP5zNz"
   },
   "outputs": [],
   "source": [
    "data = pd.concat([df, df1], ignore_index= True)\n"
   ]
  },
  {
   "cell_type": "code",
   "execution_count": 6,
   "metadata": {
    "colab": {
     "base_uri": "https://localhost:8080/"
    },
    "id": "ZHpMx0zX6GPc",
    "outputId": "4decd040-6e67-4c65-9b29-075b0a1c4d5e"
   },
   "outputs": [
    {
     "name": "stdout",
     "output_type": "stream",
     "text": [
      "['Age', 'Workclass', 'fnlwgt', 'Education', 'Education-Num', 'Martial Status', 'Occupation', 'Relationship', 'Race', 'Sex', 'Capital Gain', 'Capital Loss', 'Hours per week', 'Country', 'Target']\n",
      "(48842, 15)\n"
     ]
    }
   ],
   "source": [
    "names_cloud = data.columns.tolist()\n",
    "print(names_cloud)\n",
    "X = np.array(data[names_cloud])\n",
    "print(X.shape)"
   ]
  },
  {
   "cell_type": "code",
   "execution_count": 7,
   "metadata": {
    "colab": {
     "base_uri": "https://localhost:8080/"
    },
    "id": "3SJl9iri6itB",
    "outputId": "8911bf6e-0317-4585-ea11-eba06f9f1eb8"
   },
   "outputs": [
    {
     "name": "stdout",
     "output_type": "stream",
     "text": [
      "0    37155\n",
      "1    11687\n",
      "Name: count, dtype: int64\n"
     ]
    },
    {
     "name": "stderr",
     "output_type": "stream",
     "text": [
      "/tmp/ipykernel_83135/3481380141.py:2: FutureWarning: pandas.value_counts is deprecated and will be removed in a future version. Use pd.Series(obj).value_counts() instead.\n",
      "  print(pd.value_counts(pd.Series(y)))\n"
     ]
    }
   ],
   "source": [
    "y = (data['Target'].map({\"<=50K\":0,\">50K\":1})).values\n",
    "print(pd.value_counts(pd.Series(y)))\n",
    "data.drop('Target',axis=1, inplace =True,)"
   ]
  },
  {
   "cell_type": "code",
   "execution_count": 8,
   "metadata": {
    "colab": {
     "base_uri": "https://localhost:8080/"
    },
    "id": "o6iQcyq27xM0",
    "outputId": "e25e6f71-b52c-4f5a-9b06-535cbfea71ea"
   },
   "outputs": [
    {
     "name": "stdout",
     "output_type": "stream",
     "text": [
      "Index(['Workclass', 'Education', 'Martial Status', 'Occupation',\n",
      "       'Relationship', 'Race', 'Sex', 'Country'],\n",
      "      dtype='object')\n"
     ]
    }
   ],
   "source": [
    "categorical_features = data.select_dtypes(include=['object']).columns\n",
    "print(categorical_features)\n",
    "ohc_category = ['Workclass', 'Education', 'Martial Status', 'Occupation', 'Relationship', 'Race', 'Sex', 'Country']\n",
    "df_ohc = pd.get_dummies(data, columns = ohc_category)\n"
   ]
  },
  {
   "cell_type": "code",
   "execution_count": 9,
   "metadata": {
    "colab": {
     "base_uri": "https://localhost:8080/"
    },
    "id": "F-LC7vMbzxId",
    "outputId": "0c9727d7-7921-433c-8a57-2944487a2afd"
   },
   "outputs": [
    {
     "name": "stdout",
     "output_type": "stream",
     "text": [
      "Target Variable: Target\n",
      "Predictors: ['Age', 'fnlwgt', 'Education-Num', 'Capital Gain', 'Capital Loss', 'Hours per week', 'Workclass_Federal-gov', 'Workclass_Local-gov', 'Workclass_Never-worked', 'Workclass_Private', 'Workclass_Self-emp-inc', 'Workclass_Self-emp-not-inc', 'Workclass_State-gov', 'Workclass_Without-pay', 'Education_10th', 'Education_11th', 'Education_12th', 'Education_1st-4th', 'Education_5th-6th', 'Education_7th-8th', 'Education_9th', 'Education_Assoc-acdm', 'Education_Assoc-voc', 'Education_Bachelors', 'Education_Doctorate', 'Education_HS-grad', 'Education_Masters', 'Education_Preschool', 'Education_Prof-school', 'Education_Some-college', 'Martial Status_Divorced', 'Martial Status_Married-AF-spouse', 'Martial Status_Married-civ-spouse', 'Martial Status_Married-spouse-absent', 'Martial Status_Never-married', 'Martial Status_Separated', 'Martial Status_Widowed', 'Occupation_Adm-clerical', 'Occupation_Armed-Forces', 'Occupation_Craft-repair', 'Occupation_Exec-managerial', 'Occupation_Farming-fishing', 'Occupation_Handlers-cleaners', 'Occupation_Machine-op-inspct', 'Occupation_Other-service', 'Occupation_Priv-house-serv', 'Occupation_Prof-specialty', 'Occupation_Protective-serv', 'Occupation_Sales', 'Occupation_Tech-support', 'Occupation_Transport-moving', 'Relationship_Husband', 'Relationship_Not-in-family', 'Relationship_Other-relative', 'Relationship_Own-child', 'Relationship_Unmarried', 'Relationship_Wife', 'Race_Amer-Indian-Eskimo', 'Race_Asian-Pac-Islander', 'Race_Black', 'Race_Other', 'Race_White', 'Sex_Female', 'Sex_Male', 'Country_Cambodia', 'Country_Canada', 'Country_China', 'Country_Columbia', 'Country_Cuba', 'Country_Dominican-Republic', 'Country_Ecuador', 'Country_El-Salvador', 'Country_England', 'Country_France', 'Country_Germany', 'Country_Greece', 'Country_Guatemala', 'Country_Haiti', 'Country_Holand-Netherlands', 'Country_Honduras', 'Country_Hong', 'Country_Hungary', 'Country_India', 'Country_Iran', 'Country_Ireland', 'Country_Italy', 'Country_Jamaica', 'Country_Japan', 'Country_Laos', 'Country_Mexico', 'Country_Nicaragua', 'Country_Outlying-US(Guam-USVI-etc)', 'Country_Peru', 'Country_Philippines', 'Country_Poland', 'Country_Portugal', 'Country_Puerto-Rico', 'Country_Scotland', 'Country_South', 'Country_Taiwan', 'Country_Thailand', 'Country_Trinadad&Tobago', 'Country_United-States', 'Country_Vietnam', 'Country_Yugoslavia']\n",
      "Number of data samples : 48842\n",
      "Number of Predictor Features : 105\n"
     ]
    }
   ],
   "source": [
    "names_x = df_ohc.columns.tolist()\n",
    "print(\"Target Variable: Target\")\n",
    "print(\"Predictors: \"+str(names_x))\n",
    "x = np.array(df_ohc[names_x])\n",
    "print(\"Number of data samples : {0:d}\".format(x.shape[0]))\n",
    "print(\"Number of Predictor Features : {0:d}\".format(x.shape[1]))"
   ]
  },
  {
   "cell_type": "markdown",
   "metadata": {
    "id": "ambYSyJPxV3t"
   },
   "source": [
    "# Modelo Alvo Original"
   ]
  },
  {
   "cell_type": "code",
   "execution_count": 10,
   "metadata": {
    "colab": {
     "base_uri": "https://localhost:8080/"
    },
    "id": "dJLwG5cQ8LIB",
    "outputId": "3314a13f-0332-4941-95a0-1f02992626bc"
   },
   "outputs": [
    {
     "name": "stdout",
     "output_type": "stream",
     "text": [
      "[23509 38928 23796 ...   919 38467 10742]\n"
     ]
    }
   ],
   "source": [
    "x = x.astype('float32')\n",
    "scaler = MinMaxScaler()\n",
    "\n",
    "x = scaler.fit_transform(x)\n",
    "\n",
    "\n",
    "data_size = 10000\n",
    "ns = 5 #number of shadow models for one data_size\n",
    "\n",
    "nout = 1\n",
    "seed = 7\n",
    "np.random.seed(seed)\n",
    "sh = np.arange(x.shape[0])\n",
    "np.random.shuffle(sh)\n",
    "target_rep = np.zeros((1,x.shape[0]))\n",
    "target_rep[0,:] = sh\n",
    "print(sh)"
   ]
  },
  {
   "cell_type": "code",
   "execution_count": 11,
   "metadata": {
    "colab": {
     "base_uri": "https://localhost:8080/",
     "height": 439
    },
    "id": "Usg48OfJxaq8",
    "outputId": "030c668f-3a39-44d3-c1b2-43683b4702db"
   },
   "outputs": [
    {
     "name": "stderr",
     "output_type": "stream",
     "text": [
      "/media/emanuel/sdd_sata/projetos/projeto_mestrado_ofc/.venv/lib/python3.12/site-packages/keras/src/layers/core/dense.py:87: UserWarning: Do not pass an `input_shape`/`input_dim` argument to a layer. When using Sequential models, prefer using an `Input(shape)` object as the first layer in the model instead.\n",
      "  super().__init__(activity_regularizer=activity_regularizer, **kwargs)\n",
      "W0000 00:00:1737385134.724372   83135 gpu_device.cc:2344] Cannot dlopen some GPU libraries. Please make sure the missing libraries mentioned above are installed properly if you would like to use GPU. Follow the guide at https://www.tensorflow.org/install/gpu for how to download and setup the required libraries for your platform.\n",
      "Skipping registering GPU devices...\n",
      "/media/emanuel/sdd_sata/projetos/projeto_mestrado_ofc/.venv/lib/python3.12/site-packages/keras/src/optimizers/base_optimizer.py:86: UserWarning: Argument `decay` is no longer supported and will be ignored.\n",
      "  warnings.warn(\n"
     ]
    },
    {
     "data": {
      "text/html": [
       "<pre style=\"white-space:pre;overflow-x:auto;line-height:normal;font-family:Menlo,'DejaVu Sans Mono',consolas,'Courier New',monospace\"><span style=\"font-weight: bold\">Model: \"sequential\"</span>\n",
       "</pre>\n"
      ],
      "text/plain": [
       "\u001b[1mModel: \"sequential\"\u001b[0m\n"
      ]
     },
     "metadata": {},
     "output_type": "display_data"
    },
    {
     "data": {
      "text/html": [
       "<pre style=\"white-space:pre;overflow-x:auto;line-height:normal;font-family:Menlo,'DejaVu Sans Mono',consolas,'Courier New',monospace\">┏━━━━━━━━━━━━━━━━━━━━━━━━━━━━━━━━━┳━━━━━━━━━━━━━━━━━━━━━━━━┳━━━━━━━━━━━━━━━┓\n",
       "┃<span style=\"font-weight: bold\"> Layer (type)                    </span>┃<span style=\"font-weight: bold\"> Output Shape           </span>┃<span style=\"font-weight: bold\">       Param # </span>┃\n",
       "┡━━━━━━━━━━━━━━━━━━━━━━━━━━━━━━━━━╇━━━━━━━━━━━━━━━━━━━━━━━━╇━━━━━━━━━━━━━━━┩\n",
       "│ hidden (<span style=\"color: #0087ff; text-decoration-color: #0087ff\">Dense</span>)                  │ (<span style=\"color: #00d7ff; text-decoration-color: #00d7ff\">None</span>, <span style=\"color: #00af00; text-decoration-color: #00af00\">5</span>)              │           <span style=\"color: #00af00; text-decoration-color: #00af00\">530</span> │\n",
       "├─────────────────────────────────┼────────────────────────┼───────────────┤\n",
       "│ output (<span style=\"color: #0087ff; text-decoration-color: #0087ff\">Dense</span>)                  │ (<span style=\"color: #00d7ff; text-decoration-color: #00d7ff\">None</span>, <span style=\"color: #00af00; text-decoration-color: #00af00\">1</span>)              │             <span style=\"color: #00af00; text-decoration-color: #00af00\">6</span> │\n",
       "└─────────────────────────────────┴────────────────────────┴───────────────┘\n",
       "</pre>\n"
      ],
      "text/plain": [
       "┏━━━━━━━━━━━━━━━━━━━━━━━━━━━━━━━━━┳━━━━━━━━━━━━━━━━━━━━━━━━┳━━━━━━━━━━━━━━━┓\n",
       "┃\u001b[1m \u001b[0m\u001b[1mLayer (type)                   \u001b[0m\u001b[1m \u001b[0m┃\u001b[1m \u001b[0m\u001b[1mOutput Shape          \u001b[0m\u001b[1m \u001b[0m┃\u001b[1m \u001b[0m\u001b[1m      Param #\u001b[0m\u001b[1m \u001b[0m┃\n",
       "┡━━━━━━━━━━━━━━━━━━━━━━━━━━━━━━━━━╇━━━━━━━━━━━━━━━━━━━━━━━━╇━━━━━━━━━━━━━━━┩\n",
       "│ hidden (\u001b[38;5;33mDense\u001b[0m)                  │ (\u001b[38;5;45mNone\u001b[0m, \u001b[38;5;34m5\u001b[0m)              │           \u001b[38;5;34m530\u001b[0m │\n",
       "├─────────────────────────────────┼────────────────────────┼───────────────┤\n",
       "│ output (\u001b[38;5;33mDense\u001b[0m)                  │ (\u001b[38;5;45mNone\u001b[0m, \u001b[38;5;34m1\u001b[0m)              │             \u001b[38;5;34m6\u001b[0m │\n",
       "└─────────────────────────────────┴────────────────────────┴───────────────┘\n"
      ]
     },
     "metadata": {},
     "output_type": "display_data"
    },
    {
     "data": {
      "text/html": [
       "<pre style=\"white-space:pre;overflow-x:auto;line-height:normal;font-family:Menlo,'DejaVu Sans Mono',consolas,'Courier New',monospace\"><span style=\"font-weight: bold\"> Total params: </span><span style=\"color: #00af00; text-decoration-color: #00af00\">536</span> (2.09 KB)\n",
       "</pre>\n"
      ],
      "text/plain": [
       "\u001b[1m Total params: \u001b[0m\u001b[38;5;34m536\u001b[0m (2.09 KB)\n"
      ]
     },
     "metadata": {},
     "output_type": "display_data"
    },
    {
     "data": {
      "text/html": [
       "<pre style=\"white-space:pre;overflow-x:auto;line-height:normal;font-family:Menlo,'DejaVu Sans Mono',consolas,'Courier New',monospace\"><span style=\"font-weight: bold\"> Trainable params: </span><span style=\"color: #00af00; text-decoration-color: #00af00\">536</span> (2.09 KB)\n",
       "</pre>\n"
      ],
      "text/plain": [
       "\u001b[1m Trainable params: \u001b[0m\u001b[38;5;34m536\u001b[0m (2.09 KB)\n"
      ]
     },
     "metadata": {},
     "output_type": "display_data"
    },
    {
     "data": {
      "text/html": [
       "<pre style=\"white-space:pre;overflow-x:auto;line-height:normal;font-family:Menlo,'DejaVu Sans Mono',consolas,'Courier New',monospace\"><span style=\"font-weight: bold\"> Non-trainable params: </span><span style=\"color: #00af00; text-decoration-color: #00af00\">0</span> (0.00 B)\n",
       "</pre>\n"
      ],
      "text/plain": [
       "\u001b[1m Non-trainable params: \u001b[0m\u001b[38;5;34m0\u001b[0m (0.00 B)\n"
      ]
     },
     "metadata": {},
     "output_type": "display_data"
    },
    {
     "name": "stdout",
     "output_type": "stream",
     "text": [
      "None\n"
     ]
    },
    {
     "name": "stderr",
     "output_type": "stream",
     "text": [
      "WARNING:absl:You are saving your model as an HDF5 file via `model.save()` or `keras.saving.save_model(model)`. This file format is considered legacy. We recommend using instead the native Keras format, e.g. `model.save('my_model.keras')` or `keras.saving.save_model(model, 'my_model.keras')`. \n"
     ]
    },
    {
     "name": "stdout",
     "output_type": "stream",
     "text": [
      "\n",
      "\n",
      "For target model with training datasize = 10000\n",
      "Training accuracy = 0.850000\n",
      "Validation accuracy = 0.849800\n",
      "\u001b[1m313/313\u001b[0m \u001b[32m━━━━━━━━━━━━━━━━━━━━\u001b[0m\u001b[37m\u001b[0m \u001b[1m0s\u001b[0m 318us/step\n",
      "\u001b[1m313/313\u001b[0m \u001b[32m━━━━━━━━━━━━━━━━━━━━\u001b[0m\u001b[37m\u001b[0m \u001b[1m0s\u001b[0m 337us/step\n"
     ]
    }
   ],
   "source": [
    "k.clear_session()\n",
    "\n",
    "xtr_target = x[sh[:data_size]]\n",
    "ytr_target = y[sh[:data_size]]\n",
    "xts_target = x[sh[data_size:data_size*2]]\n",
    "yts_target = y[sh[data_size:2*data_size]]\n",
    "\n",
    "shadow_rep = np.zeros((5,x.shape[0]-2*data_size))\n",
    "sh1 = sh[2*data_size:]\n",
    "xtr_att = np.zeros((2*data_size*ns,1))\n",
    "ytr_att = np.zeros((2*data_size*ns,1))\n",
    "xtr_att_truelabels = np.zeros((2*data_size*ns,))\n",
    "\n",
    "model_target = Sequential()\n",
    "model_target.add(Dense(5, input_shape =(x.shape[1],), activation='sigmoid', name = 'hidden'))\n",
    "model_target.add(Dense(1, activation='sigmoid', name = 'output'))\n",
    "opt = keras.optimizers.Adam(learning_rate=0.001, decay = 1e-7)\n",
    "model_target.compile(loss='binary_crossentropy',\n",
    "                  optimizer=opt,\n",
    "                  metrics=['accuracy'])\n",
    "print(model_target.summary())\n",
    "hist_target = model_target.fit(xtr_target, ytr_target,\n",
    "                  batch_size = 32,\n",
    "                  epochs = 100,\n",
    "                  validation_data=(xts_target, yts_target), shuffle=True, verbose=0)\n",
    "print('\\n\\nFor target model with training datasize = %d'%data_size)\n",
    "print('Training accuracy = %f'%hist_target.history['accuracy'][-1])\n",
    "print('Validation accuracy = %f'%hist_target.history['val_accuracy'][-1])\n",
    "model_target_name = 'UCI_Adult_target_'+str(data_size)+'.h5'\n",
    "\n",
    "model_target.save(model_target_name)\n",
    "\n",
    "ytemp_tr_target = model_target.predict(xtr_target)\n",
    "ytemp_ts_target = model_target.predict(xts_target)\n",
    "\n",
    "xts_att = np.vstack((ytemp_tr_target,ytemp_ts_target))\n",
    "yts_att = np.zeros((2*data_size,1))\n",
    "yts_att[data_size:2*data_size] = 1\n",
    "xts_att_truelabels = np.vstack((ytr_target,yts_target))\n",
    "xts_att_dict = {'xts_att':xts_att,'yts_att':yts_att,'xts_att_truelabels':xts_att_truelabels}\n",
    "fname = './att_test_data_'+str(data_size)\n",
    "np.save(fname,xts_att_dict)\n",
    "datafile = './data_adult_target_'+str(data_size)\n",
    "np.save(datafile,target_rep)"
   ]
  },
  {
   "cell_type": "markdown",
   "metadata": {},
   "source": [
    "## Modelo Sombra"
   ]
  },
  {
   "cell_type": "code",
   "execution_count": 12,
   "metadata": {
    "colab": {
     "base_uri": "https://localhost:8080/",
     "height": 1000
    },
    "id": "PKaOpPay1_7X",
    "outputId": "593ea3a8-729a-4378-b363-aff4f10f17a2"
   },
   "outputs": [
    {
     "name": "stdout",
     "output_type": "stream",
     "text": [
      "Shadow Model Summary\n"
     ]
    },
    {
     "data": {
      "text/html": [
       "<pre style=\"white-space:pre;overflow-x:auto;line-height:normal;font-family:Menlo,'DejaVu Sans Mono',consolas,'Courier New',monospace\"><span style=\"font-weight: bold\">Model: \"sequential_1\"</span>\n",
       "</pre>\n"
      ],
      "text/plain": [
       "\u001b[1mModel: \"sequential_1\"\u001b[0m\n"
      ]
     },
     "metadata": {},
     "output_type": "display_data"
    },
    {
     "data": {
      "text/html": [
       "<pre style=\"white-space:pre;overflow-x:auto;line-height:normal;font-family:Menlo,'DejaVu Sans Mono',consolas,'Courier New',monospace\">┏━━━━━━━━━━━━━━━━━━━━━━━━━━━━━━━━━┳━━━━━━━━━━━━━━━━━━━━━━━━┳━━━━━━━━━━━━━━━┓\n",
       "┃<span style=\"font-weight: bold\"> Layer (type)                    </span>┃<span style=\"font-weight: bold\"> Output Shape           </span>┃<span style=\"font-weight: bold\">       Param # </span>┃\n",
       "┡━━━━━━━━━━━━━━━━━━━━━━━━━━━━━━━━━╇━━━━━━━━━━━━━━━━━━━━━━━━╇━━━━━━━━━━━━━━━┩\n",
       "│ hidden (<span style=\"color: #0087ff; text-decoration-color: #0087ff\">Dense</span>)                  │ (<span style=\"color: #00d7ff; text-decoration-color: #00d7ff\">None</span>, <span style=\"color: #00af00; text-decoration-color: #00af00\">5</span>)              │           <span style=\"color: #00af00; text-decoration-color: #00af00\">530</span> │\n",
       "├─────────────────────────────────┼────────────────────────┼───────────────┤\n",
       "│ output (<span style=\"color: #0087ff; text-decoration-color: #0087ff\">Dense</span>)                  │ (<span style=\"color: #00d7ff; text-decoration-color: #00d7ff\">None</span>, <span style=\"color: #00af00; text-decoration-color: #00af00\">1</span>)              │             <span style=\"color: #00af00; text-decoration-color: #00af00\">6</span> │\n",
       "└─────────────────────────────────┴────────────────────────┴───────────────┘\n",
       "</pre>\n"
      ],
      "text/plain": [
       "┏━━━━━━━━━━━━━━━━━━━━━━━━━━━━━━━━━┳━━━━━━━━━━━━━━━━━━━━━━━━┳━━━━━━━━━━━━━━━┓\n",
       "┃\u001b[1m \u001b[0m\u001b[1mLayer (type)                   \u001b[0m\u001b[1m \u001b[0m┃\u001b[1m \u001b[0m\u001b[1mOutput Shape          \u001b[0m\u001b[1m \u001b[0m┃\u001b[1m \u001b[0m\u001b[1m      Param #\u001b[0m\u001b[1m \u001b[0m┃\n",
       "┡━━━━━━━━━━━━━━━━━━━━━━━━━━━━━━━━━╇━━━━━━━━━━━━━━━━━━━━━━━━╇━━━━━━━━━━━━━━━┩\n",
       "│ hidden (\u001b[38;5;33mDense\u001b[0m)                  │ (\u001b[38;5;45mNone\u001b[0m, \u001b[38;5;34m5\u001b[0m)              │           \u001b[38;5;34m530\u001b[0m │\n",
       "├─────────────────────────────────┼────────────────────────┼───────────────┤\n",
       "│ output (\u001b[38;5;33mDense\u001b[0m)                  │ (\u001b[38;5;45mNone\u001b[0m, \u001b[38;5;34m1\u001b[0m)              │             \u001b[38;5;34m6\u001b[0m │\n",
       "└─────────────────────────────────┴────────────────────────┴───────────────┘\n"
      ]
     },
     "metadata": {},
     "output_type": "display_data"
    },
    {
     "data": {
      "text/html": [
       "<pre style=\"white-space:pre;overflow-x:auto;line-height:normal;font-family:Menlo,'DejaVu Sans Mono',consolas,'Courier New',monospace\"><span style=\"font-weight: bold\"> Total params: </span><span style=\"color: #00af00; text-decoration-color: #00af00\">536</span> (2.09 KB)\n",
       "</pre>\n"
      ],
      "text/plain": [
       "\u001b[1m Total params: \u001b[0m\u001b[38;5;34m536\u001b[0m (2.09 KB)\n"
      ]
     },
     "metadata": {},
     "output_type": "display_data"
    },
    {
     "data": {
      "text/html": [
       "<pre style=\"white-space:pre;overflow-x:auto;line-height:normal;font-family:Menlo,'DejaVu Sans Mono',consolas,'Courier New',monospace\"><span style=\"font-weight: bold\"> Trainable params: </span><span style=\"color: #00af00; text-decoration-color: #00af00\">536</span> (2.09 KB)\n",
       "</pre>\n"
      ],
      "text/plain": [
       "\u001b[1m Trainable params: \u001b[0m\u001b[38;5;34m536\u001b[0m (2.09 KB)\n"
      ]
     },
     "metadata": {},
     "output_type": "display_data"
    },
    {
     "data": {
      "text/html": [
       "<pre style=\"white-space:pre;overflow-x:auto;line-height:normal;font-family:Menlo,'DejaVu Sans Mono',consolas,'Courier New',monospace\"><span style=\"font-weight: bold\"> Non-trainable params: </span><span style=\"color: #00af00; text-decoration-color: #00af00\">0</span> (0.00 B)\n",
       "</pre>\n"
      ],
      "text/plain": [
       "\u001b[1m Non-trainable params: \u001b[0m\u001b[38;5;34m0\u001b[0m (0.00 B)\n"
      ]
     },
     "metadata": {},
     "output_type": "display_data"
    },
    {
     "name": "stdout",
     "output_type": "stream",
     "text": [
      "None\n",
      "Shadow model no: 0\n",
      "\n",
      "\n",
      "For shadow model with training datasize = 10000\n",
      "Training accuracy = 0.855900\n",
      "Validation accuracy = 0.851200\n",
      "\u001b[1m313/313\u001b[0m \u001b[32m━━━━━━━━━━━━━━━━━━━━\u001b[0m\u001b[37m\u001b[0m \u001b[1m0s\u001b[0m 305us/step\n",
      "\u001b[1m313/313\u001b[0m \u001b[32m━━━━━━━━━━━━━━━━━━━━\u001b[0m\u001b[37m\u001b[0m \u001b[1m0s\u001b[0m 264us/step\n"
     ]
    },
    {
     "name": "stderr",
     "output_type": "stream",
     "text": [
      "WARNING:absl:You are saving your model as an HDF5 file via `model.save()` or `keras.saving.save_model(model)`. This file format is considered legacy. We recommend using instead the native Keras format, e.g. `model.save('my_model.keras')` or `keras.saving.save_model(model, 'my_model.keras')`. \n"
     ]
    },
    {
     "name": "stdout",
     "output_type": "stream",
     "text": [
      "UCI_Adult_shadow_10000_0.h5\n",
      "Shadow model no: 1\n",
      "\n",
      "\n",
      "For shadow model with training datasize = 10000\n",
      "Training accuracy = 0.859100\n",
      "Validation accuracy = 0.850500\n",
      "\u001b[1m313/313\u001b[0m \u001b[32m━━━━━━━━━━━━━━━━━━━━\u001b[0m\u001b[37m\u001b[0m \u001b[1m0s\u001b[0m 302us/step\n",
      "\u001b[1m313/313\u001b[0m \u001b[32m━━━━━━━━━━━━━━━━━━━━\u001b[0m\u001b[37m\u001b[0m \u001b[1m0s\u001b[0m 270us/step\n"
     ]
    },
    {
     "name": "stderr",
     "output_type": "stream",
     "text": [
      "WARNING:absl:You are saving your model as an HDF5 file via `model.save()` or `keras.saving.save_model(model)`. This file format is considered legacy. We recommend using instead the native Keras format, e.g. `model.save('my_model.keras')` or `keras.saving.save_model(model, 'my_model.keras')`. \n"
     ]
    },
    {
     "name": "stdout",
     "output_type": "stream",
     "text": [
      "UCI_Adult_shadow_10000_1.h5\n",
      "Shadow model no: 2\n",
      "\n",
      "\n",
      "For shadow model with training datasize = 10000\n",
      "Training accuracy = 0.858800\n",
      "Validation accuracy = 0.848700\n",
      "\u001b[1m313/313\u001b[0m \u001b[32m━━━━━━━━━━━━━━━━━━━━\u001b[0m\u001b[37m\u001b[0m \u001b[1m0s\u001b[0m 306us/step\n",
      "\u001b[1m313/313\u001b[0m \u001b[32m━━━━━━━━━━━━━━━━━━━━\u001b[0m\u001b[37m\u001b[0m \u001b[1m0s\u001b[0m 271us/step\n"
     ]
    },
    {
     "name": "stderr",
     "output_type": "stream",
     "text": [
      "WARNING:absl:You are saving your model as an HDF5 file via `model.save()` or `keras.saving.save_model(model)`. This file format is considered legacy. We recommend using instead the native Keras format, e.g. `model.save('my_model.keras')` or `keras.saving.save_model(model, 'my_model.keras')`. \n"
     ]
    },
    {
     "name": "stdout",
     "output_type": "stream",
     "text": [
      "UCI_Adult_shadow_10000_2.h5\n",
      "Shadow model no: 3\n",
      "\n",
      "\n",
      "For shadow model with training datasize = 10000\n",
      "Training accuracy = 0.863600\n",
      "Validation accuracy = 0.845600\n",
      "\u001b[1m313/313\u001b[0m \u001b[32m━━━━━━━━━━━━━━━━━━━━\u001b[0m\u001b[37m\u001b[0m \u001b[1m0s\u001b[0m 301us/step\n",
      "\u001b[1m313/313\u001b[0m \u001b[32m━━━━━━━━━━━━━━━━━━━━\u001b[0m\u001b[37m\u001b[0m \u001b[1m0s\u001b[0m 269us/step\n"
     ]
    },
    {
     "name": "stderr",
     "output_type": "stream",
     "text": [
      "WARNING:absl:You are saving your model as an HDF5 file via `model.save()` or `keras.saving.save_model(model)`. This file format is considered legacy. We recommend using instead the native Keras format, e.g. `model.save('my_model.keras')` or `keras.saving.save_model(model, 'my_model.keras')`. \n"
     ]
    },
    {
     "name": "stdout",
     "output_type": "stream",
     "text": [
      "UCI_Adult_shadow_10000_3.h5\n",
      "Shadow model no: 4\n",
      "\n",
      "\n",
      "For shadow model with training datasize = 10000\n",
      "Training accuracy = 0.857800\n",
      "Validation accuracy = 0.850100\n",
      "\u001b[1m313/313\u001b[0m \u001b[32m━━━━━━━━━━━━━━━━━━━━\u001b[0m\u001b[37m\u001b[0m \u001b[1m0s\u001b[0m 310us/step\n",
      "\u001b[1m313/313\u001b[0m \u001b[32m━━━━━━━━━━━━━━━━━━━━\u001b[0m\u001b[37m\u001b[0m \u001b[1m0s\u001b[0m 272us/step\n"
     ]
    },
    {
     "name": "stderr",
     "output_type": "stream",
     "text": [
      "WARNING:absl:You are saving your model as an HDF5 file via `model.save()` or `keras.saving.save_model(model)`. This file format is considered legacy. We recommend using instead the native Keras format, e.g. `model.save('my_model.keras')` or `keras.saving.save_model(model, 'my_model.keras')`. \n"
     ]
    },
    {
     "name": "stdout",
     "output_type": "stream",
     "text": [
      "UCI_Adult_shadow_10000_4.h5\n"
     ]
    }
   ],
   "source": [
    "for i in np.arange(ns):\n",
    "\n",
    "    np.random.shuffle(sh1)\n",
    "    shadow_rep[i,:] = sh1\n",
    "    xtr_shadow = x[sh1[:data_size]]\n",
    "    ytr_shadow = y[sh1[:data_size]]\n",
    "    xts_shadow = x[sh1[data_size:2*data_size]]\n",
    "    yts_shadow = y[sh1[data_size:2*data_size]]\n",
    "\n",
    "    model_shadow = Sequential()\n",
    "    model_shadow.add(Dense(5, input_shape =(x.shape[1],), activation='sigmoid', name = 'hidden'))\n",
    "    model_shadow.add(Dense(1, activation='sigmoid', name = 'output'))\n",
    "    opt = keras.optimizers.Adam(learning_rate=0.001, decay=1e-7)\n",
    "    model_shadow.compile(loss='binary_crossentropy',\n",
    "                  optimizer=opt,\n",
    "                  metrics=['accuracy'])\n",
    "    if i == 0:\n",
    "        print(\"Shadow Model Summary\")\n",
    "        print(model_shadow.summary())\n",
    "    hist_shadow = model_shadow.fit(xtr_shadow, ytr_shadow,\n",
    "                  batch_size = 32,\n",
    "                  epochs = 100,\n",
    "                  validation_data=(xts_shadow, yts_shadow), shuffle=True, verbose=0)\n",
    "    print(\"Shadow model no: %d\"%i)\n",
    "    print('\\n\\nFor shadow model with training datasize = %d'%data_size)\n",
    "    print('Training accuracy = %f'%hist_shadow.history['accuracy'][-1])\n",
    "    print('Validation accuracy = %f'%hist_shadow.history['val_accuracy'][-1])\n",
    "\n",
    "    ytemp11 = model_shadow.predict(xtr_shadow)\n",
    "    ytemp22 = model_shadow.predict(xts_shadow)\n",
    "\n",
    "    model_shadow_name = 'UCI_Adult_shadow_'+str(data_size)+'_'+str(i)+'.h5'\n",
    "    print(model_shadow_name)\n",
    "    model_shadow.save(model_shadow_name)\n",
    "\n",
    "    xtr_att[i*2*data_size:(i+1)*2*data_size] = np.vstack((ytemp11,ytemp22))\n",
    "    ytr_att[((i*2)+1)*data_size:(i+1)*2*data_size] = 1\n",
    "    xtr_att_truelabels[i*2*data_size:(i+1)*2*data_size] = np.hstack((ytr_shadow,yts_shadow))\n",
    "\n",
    "datafile = './data_adult_shadow_'+str(data_size)\n",
    "np.save(datafile,shadow_rep)\n",
    "xtr_att_dict = {'xtr_att':xtr_att,'ytr_att':ytr_att,'xtr_att_truelabels':xtr_att_truelabels}\n",
    "fname = './att_train_data_'+str(data_size)\n",
    "np.save(fname,xtr_att_dict)"
   ]
  },
  {
   "cell_type": "markdown",
   "metadata": {},
   "source": [
    "# Modelo de Ataque"
   ]
  },
  {
   "cell_type": "code",
   "execution_count": 13,
   "metadata": {
    "colab": {
     "base_uri": "https://localhost:8080/",
     "height": 349
    },
    "id": "sYtHjgcd3tvs",
    "outputId": "b92e2c22-50e9-4f3d-ad89-a942272cea69"
   },
   "outputs": [
    {
     "name": "stdout",
     "output_type": "stream",
     "text": [
      "Attack Model Summary\n"
     ]
    },
    {
     "data": {
      "text/html": [
       "<pre style=\"white-space:pre;overflow-x:auto;line-height:normal;font-family:Menlo,'DejaVu Sans Mono',consolas,'Courier New',monospace\"><span style=\"font-weight: bold\">Model: \"sequential_6\"</span>\n",
       "</pre>\n"
      ],
      "text/plain": [
       "\u001b[1mModel: \"sequential_6\"\u001b[0m\n"
      ]
     },
     "metadata": {},
     "output_type": "display_data"
    },
    {
     "data": {
      "text/html": [
       "<pre style=\"white-space:pre;overflow-x:auto;line-height:normal;font-family:Menlo,'DejaVu Sans Mono',consolas,'Courier New',monospace\">┏━━━━━━━━━━━━━━━━━━━━━━━━━━━━━━━━━┳━━━━━━━━━━━━━━━━━━━━━━━━┳━━━━━━━━━━━━━━━┓\n",
       "┃<span style=\"font-weight: bold\"> Layer (type)                    </span>┃<span style=\"font-weight: bold\"> Output Shape           </span>┃<span style=\"font-weight: bold\">       Param # </span>┃\n",
       "┡━━━━━━━━━━━━━━━━━━━━━━━━━━━━━━━━━╇━━━━━━━━━━━━━━━━━━━━━━━━╇━━━━━━━━━━━━━━━┩\n",
       "│ hidden (<span style=\"color: #0087ff; text-decoration-color: #0087ff\">Dense</span>)                  │ (<span style=\"color: #00d7ff; text-decoration-color: #00d7ff\">None</span>, <span style=\"color: #00af00; text-decoration-color: #00af00\">5</span>)              │            <span style=\"color: #00af00; text-decoration-color: #00af00\">10</span> │\n",
       "├─────────────────────────────────┼────────────────────────┼───────────────┤\n",
       "│ output (<span style=\"color: #0087ff; text-decoration-color: #0087ff\">Dense</span>)                  │ (<span style=\"color: #00d7ff; text-decoration-color: #00d7ff\">None</span>, <span style=\"color: #00af00; text-decoration-color: #00af00\">1</span>)              │             <span style=\"color: #00af00; text-decoration-color: #00af00\">6</span> │\n",
       "└─────────────────────────────────┴────────────────────────┴───────────────┘\n",
       "</pre>\n"
      ],
      "text/plain": [
       "┏━━━━━━━━━━━━━━━━━━━━━━━━━━━━━━━━━┳━━━━━━━━━━━━━━━━━━━━━━━━┳━━━━━━━━━━━━━━━┓\n",
       "┃\u001b[1m \u001b[0m\u001b[1mLayer (type)                   \u001b[0m\u001b[1m \u001b[0m┃\u001b[1m \u001b[0m\u001b[1mOutput Shape          \u001b[0m\u001b[1m \u001b[0m┃\u001b[1m \u001b[0m\u001b[1m      Param #\u001b[0m\u001b[1m \u001b[0m┃\n",
       "┡━━━━━━━━━━━━━━━━━━━━━━━━━━━━━━━━━╇━━━━━━━━━━━━━━━━━━━━━━━━╇━━━━━━━━━━━━━━━┩\n",
       "│ hidden (\u001b[38;5;33mDense\u001b[0m)                  │ (\u001b[38;5;45mNone\u001b[0m, \u001b[38;5;34m5\u001b[0m)              │            \u001b[38;5;34m10\u001b[0m │\n",
       "├─────────────────────────────────┼────────────────────────┼───────────────┤\n",
       "│ output (\u001b[38;5;33mDense\u001b[0m)                  │ (\u001b[38;5;45mNone\u001b[0m, \u001b[38;5;34m1\u001b[0m)              │             \u001b[38;5;34m6\u001b[0m │\n",
       "└─────────────────────────────────┴────────────────────────┴───────────────┘\n"
      ]
     },
     "metadata": {},
     "output_type": "display_data"
    },
    {
     "data": {
      "text/html": [
       "<pre style=\"white-space:pre;overflow-x:auto;line-height:normal;font-family:Menlo,'DejaVu Sans Mono',consolas,'Courier New',monospace\"><span style=\"font-weight: bold\"> Total params: </span><span style=\"color: #00af00; text-decoration-color: #00af00\">16</span> (64.00 B)\n",
       "</pre>\n"
      ],
      "text/plain": [
       "\u001b[1m Total params: \u001b[0m\u001b[38;5;34m16\u001b[0m (64.00 B)\n"
      ]
     },
     "metadata": {},
     "output_type": "display_data"
    },
    {
     "data": {
      "text/html": [
       "<pre style=\"white-space:pre;overflow-x:auto;line-height:normal;font-family:Menlo,'DejaVu Sans Mono',consolas,'Courier New',monospace\"><span style=\"font-weight: bold\"> Trainable params: </span><span style=\"color: #00af00; text-decoration-color: #00af00\">16</span> (64.00 B)\n",
       "</pre>\n"
      ],
      "text/plain": [
       "\u001b[1m Trainable params: \u001b[0m\u001b[38;5;34m16\u001b[0m (64.00 B)\n"
      ]
     },
     "metadata": {},
     "output_type": "display_data"
    },
    {
     "data": {
      "text/html": [
       "<pre style=\"white-space:pre;overflow-x:auto;line-height:normal;font-family:Menlo,'DejaVu Sans Mono',consolas,'Courier New',monospace\"><span style=\"font-weight: bold\"> Non-trainable params: </span><span style=\"color: #00af00; text-decoration-color: #00af00\">0</span> (0.00 B)\n",
       "</pre>\n"
      ],
      "text/plain": [
       "\u001b[1m Non-trainable params: \u001b[0m\u001b[38;5;34m0\u001b[0m (0.00 B)\n"
      ]
     },
     "metadata": {},
     "output_type": "display_data"
    },
    {
     "name": "stdout",
     "output_type": "stream",
     "text": [
      "None\n",
      "\n",
      "\n",
      "For attack model with training datasize = 100000\n",
      "Training accuracy = 0.499750\n",
      "Validation accuracy = 0.500000\n",
      "\u001b[1m625/625\u001b[0m \u001b[32m━━━━━━━━━━━━━━━━━━━━\u001b[0m\u001b[37m\u001b[0m \u001b[1m0s\u001b[0m 265us/step\n",
      "Average precision-recall score: 0.50\n"
     ]
    }
   ],
   "source": [
    "model_attack = Sequential()\n",
    "model_attack.add(Dense(5, input_shape = (xtr_att.shape[1],), activation='sigmoid', name = 'hidden'))\n",
    "model_attack.add(Dense(1, activation='sigmoid', name = 'output'))\n",
    "opt = keras.optimizers.Adam(learning_rate=0.001, decay=1e-7)\n",
    "model_attack.compile(loss='binary_crossentropy',\n",
    "                  optimizer=opt,\n",
    "                  metrics=['accuracy'])\n",
    "print(\"Attack Model Summary\")\n",
    "print(model_attack.summary())\n",
    "hist_attack = model_attack.fit(xtr_att, ytr_att,\n",
    "                  batch_size = 32,\n",
    "                  epochs = 100,\n",
    "                  validation_data=(xts_att, yts_att), shuffle=True, verbose=0)\n",
    "print('\\n\\nFor attack model with training datasize = %d'%xtr_att.shape[0])\n",
    "print('Training accuracy = %f'%hist_attack.history['accuracy'][-1])\n",
    "print('Validation accuracy = %f'%hist_attack.history['val_accuracy'][-1])\n",
    "y_score = model_attack.predict(xts_att)\n",
    "average_precision = average_precision_score(yts_att, y_score)\n",
    "print('Average precision-recall score: {0:0.2f}'.format(\n",
    "      average_precision))"
   ]
  },
  {
   "cell_type": "markdown",
   "metadata": {
    "id": "7AiuOSWtDjUi"
   },
   "source": [
    "## COmbinando amostras entre alvo e sombras no conjunto de teste do ataque"
   ]
  },
  {
   "cell_type": "code",
   "execution_count": 14,
   "metadata": {
    "colab": {
     "base_uri": "https://localhost:8080/"
    },
    "id": "Uj1-18zbDWw7",
    "outputId": "1f35b6ab-f3e5-4653-a94b-b1be4958b55d"
   },
   "outputs": [
    {
     "name": "stderr",
     "output_type": "stream",
     "text": [
      "WARNING:absl:Compiled the loaded model, but the compiled metrics have yet to be built. `model.compile_metrics` will be empty until you train or evaluate the model.\n"
     ]
    },
    {
     "name": "stdout",
     "output_type": "stream",
     "text": [
      "\u001b[1m313/313\u001b[0m \u001b[32m━━━━━━━━━━━━━━━━━━━━\u001b[0m\u001b[37m\u001b[0m \u001b[1m0s\u001b[0m 316us/step\n",
      "\u001b[1m313/313\u001b[0m \u001b[32m━━━━━━━━━━━━━━━━━━━━\u001b[0m\u001b[37m\u001b[0m \u001b[1m0s\u001b[0m 272us/step\n"
     ]
    },
    {
     "name": "stderr",
     "output_type": "stream",
     "text": [
      "WARNING:absl:Compiled the loaded model, but the compiled metrics have yet to be built. `model.compile_metrics` will be empty until you train or evaluate the model.\n"
     ]
    },
    {
     "name": "stdout",
     "output_type": "stream",
     "text": [
      "\u001b[1m313/313\u001b[0m \u001b[32m━━━━━━━━━━━━━━━━━━━━\u001b[0m\u001b[37m\u001b[0m \u001b[1m0s\u001b[0m 293us/step\n",
      "\u001b[1m313/313\u001b[0m \u001b[32m━━━━━━━━━━━━━━━━━━━━\u001b[0m\u001b[37m\u001b[0m \u001b[1m0s\u001b[0m 310us/step\n"
     ]
    },
    {
     "name": "stderr",
     "output_type": "stream",
     "text": [
      "WARNING:absl:Compiled the loaded model, but the compiled metrics have yet to be built. `model.compile_metrics` will be empty until you train or evaluate the model.\n"
     ]
    },
    {
     "name": "stdout",
     "output_type": "stream",
     "text": [
      "\u001b[1m313/313\u001b[0m \u001b[32m━━━━━━━━━━━━━━━━━━━━\u001b[0m\u001b[37m\u001b[0m \u001b[1m0s\u001b[0m 321us/step\n",
      "\u001b[1m313/313\u001b[0m \u001b[32m━━━━━━━━━━━━━━━━━━━━\u001b[0m\u001b[37m\u001b[0m \u001b[1m0s\u001b[0m 262us/step\n"
     ]
    },
    {
     "name": "stderr",
     "output_type": "stream",
     "text": [
      "WARNING:absl:Compiled the loaded model, but the compiled metrics have yet to be built. `model.compile_metrics` will be empty until you train or evaluate the model.\n"
     ]
    },
    {
     "name": "stdout",
     "output_type": "stream",
     "text": [
      "\u001b[1m313/313\u001b[0m \u001b[32m━━━━━━━━━━━━━━━━━━━━\u001b[0m\u001b[37m\u001b[0m \u001b[1m0s\u001b[0m 291us/step\n",
      "\u001b[1m313/313\u001b[0m \u001b[32m━━━━━━━━━━━━━━━━━━━━\u001b[0m\u001b[37m\u001b[0m \u001b[1m0s\u001b[0m 257us/step\n"
     ]
    },
    {
     "name": "stderr",
     "output_type": "stream",
     "text": [
      "WARNING:absl:Compiled the loaded model, but the compiled metrics have yet to be built. `model.compile_metrics` will be empty until you train or evaluate the model.\n"
     ]
    },
    {
     "name": "stdout",
     "output_type": "stream",
     "text": [
      "\u001b[1m313/313\u001b[0m \u001b[32m━━━━━━━━━━━━━━━━━━━━\u001b[0m\u001b[37m\u001b[0m \u001b[1m0s\u001b[0m 304us/step\n",
      "\u001b[1m313/313\u001b[0m \u001b[32m━━━━━━━━━━━━━━━━━━━━\u001b[0m\u001b[37m\u001b[0m \u001b[1m0s\u001b[0m 255us/step\n",
      "\n",
      "\n",
      "For attack model with training datasize = 100000\n",
      "Training accuracy = 0.498550\n",
      "Validation accuracy = 0.499733\n",
      "\u001b[1m938/938\u001b[0m \u001b[32m━━━━━━━━━━━━━━━━━━━━\u001b[0m\u001b[37m\u001b[0m \u001b[1m0s\u001b[0m 253us/step\n",
      "Average precision-recall score: 0.50\n"
     ]
    }
   ],
   "source": [
    "# # First, collect predictions from both target and shadow models for test set\n",
    "# # Assuming we want to use 20% of each shadow model's predictions in the test set\n",
    "\n",
    "# # Original target model predictions\n",
    "# ytemp_tr_target = model_target.predict(xtr_target)  # predictions on target train data\n",
    "# ytemp_ts_target = model_target.predict(xts_target)  # predictions on target test data\n",
    "\n",
    "# Calculate how many samples we want from each shadow model\n",
    "shadow_samples_per_model = int(0.2 * data_size)  # 20% of data_size\n",
    "total_shadow_samples = shadow_samples_per_model * ns  # ns is number of shadow models\n",
    "\n",
    "# Initialize arrays for combined test set\n",
    "xts_att_combined = np.zeros((2*data_size + total_shadow_samples, 1))\n",
    "yts_att_combined = np.zeros((2*data_size + total_shadow_samples, 1))\n",
    "xts_att_truelabels_combined = np.zeros((2*data_size + total_shadow_samples,))\n",
    "\n",
    "# First, add all target model predictions\n",
    "xts_att_combined[:2*data_size] = np.vstack((ytemp_tr_target, ytemp_ts_target))\n",
    "yts_att_combined[:data_size] = 0  # members (target train)\n",
    "yts_att_combined[data_size:2*data_size] = 1  # non-members (target test)\n",
    "xts_att_truelabels_combined[:2*data_size] = np.hstack((ytr_target, yts_target))\n",
    "\n",
    "# Then add portions of shadow model predictions\n",
    "current_index = 2*data_size\n",
    "\n",
    "for i in np.arange(ns):\n",
    "    # Load or get predictions from each shadow model\n",
    "    model_shadow = load_model(f'UCI_Adult_shadow_{data_size}_{i}.h5')\n",
    "\n",
    "    # Get predictions from shadow model\n",
    "    shadow_tr_preds = model_shadow.predict(xtr_shadow)  # predictions on shadow train data\n",
    "    shadow_ts_preds = model_shadow.predict(xts_shadow)  # predictions on shadow test data\n",
    "\n",
    "    # Randomly select samples from both train and test predictions\n",
    "    combined_preds = np.vstack((shadow_tr_preds, shadow_ts_preds))\n",
    "    combined_labels = np.hstack((np.zeros(data_size), np.ones(data_size)))  # 0 for members, 1 for non-members\n",
    "    combined_true_labels = np.hstack((ytr_shadow, yts_shadow))\n",
    "\n",
    "    # Randomly select indices\n",
    "    random_indices = np.random.choice(2*data_size, shadow_samples_per_model, replace=False)\n",
    "\n",
    "    # Add selected predictions and their labels to test set\n",
    "    end_index = current_index + shadow_samples_per_model\n",
    "    xts_att_combined[current_index:end_index] = combined_preds[random_indices].reshape(-1, 1)\n",
    "    yts_att_combined[current_index:end_index] = combined_labels[random_indices].reshape(-1, 1)\n",
    "    xts_att_truelabels_combined[current_index:end_index] = combined_true_labels[random_indices]\n",
    "\n",
    "    current_index = end_index\n",
    "\n",
    "# Save the combined test data\n",
    "xts_att_dict = {\n",
    "    'xts_att': xts_att_combined,\n",
    "    'yts_att': yts_att_combined,\n",
    "    'xts_att_truelabels': xts_att_truelabels_combined\n",
    "}\n",
    "fname = f'./att_test_data_combined_{data_size}'\n",
    "np.save(fname, xts_att_dict)\n",
    "\n",
    "# # Use this combined test set for attack model evaluation\n",
    "hist_attack = model_attack.fit(xtr_att, ytr_att,\n",
    "                             batch_size=32,\n",
    "                             epochs=100,\n",
    "                             validation_data=(xts_att_combined, yts_att_combined),\n",
    "                             shuffle=True, verbose=0)\n",
    "\n",
    "# Evaluate performance\n",
    "print('\\n\\nFor attack model with training datasize = %d' % xtr_att.shape[0])\n",
    "print('Training accuracy = %f' % hist_attack.history['accuracy'][-1])\n",
    "print('Validation accuracy = %f' % hist_attack.history['val_accuracy'][-1])\n",
    "y_score = model_attack.predict(xts_att_combined)\n",
    "average_precision = average_precision_score(yts_att_combined, y_score)\n",
    "print('Average precision-recall score: {0:0.2f}'.format(average_precision))"
   ]
  },
  {
   "cell_type": "code",
   "execution_count": 15,
   "metadata": {
    "colab": {
     "base_uri": "https://localhost:8080/"
    },
    "id": "xIsEJl60Edzc",
    "outputId": "7fb5b11d-c4ea-4c81-be6f-ac9292772417"
   },
   "outputs": [
    {
     "name": "stdout",
     "output_type": "stream",
     "text": [
      "xts_att: 30000\n",
      "yts_att: 30000\n",
      "xts_att_truelabels: 30000\n"
     ]
    }
   ],
   "source": [
    "for key, value in xts_att_dict.items():\n",
    "  print(f'{key}: {len(value)}')"
   ]
  },
  {
   "cell_type": "code",
   "execution_count": 20,
   "metadata": {},
   "outputs": [
    {
     "name": "stderr",
     "output_type": "stream",
     "text": [
      "/tmp/ipykernel_83135/1860021247.py:7: DeprecationWarning: Conversion of an array with ndim > 0 to a scalar is deprecated, and will error in future. Ensure you extract a single element from your array before performing this operation. (Deprecated NumPy 1.25.)\n",
      "  'prediction': float(ytemp_tr_target[idx]),\n",
      "/tmp/ipykernel_83135/1860021247.py:17: DeprecationWarning: Conversion of an array with ndim > 0 to a scalar is deprecated, and will error in future. Ensure you extract a single element from your array before performing this operation. (Deprecated NumPy 1.25.)\n",
      "  'prediction': float(ytemp_ts_target[idx]),\n",
      "WARNING:absl:Compiled the loaded model, but the compiled metrics have yet to be built. `model.compile_metrics` will be empty until you train or evaluate the model.\n"
     ]
    },
    {
     "name": "stdout",
     "output_type": "stream",
     "text": [
      "\u001b[1m313/313\u001b[0m \u001b[32m━━━━━━━━━━━━━━━━━━━━\u001b[0m\u001b[37m\u001b[0m \u001b[1m0s\u001b[0m 315us/step\n",
      "\u001b[1m313/313\u001b[0m \u001b[32m━━━━━━━━━━━━━━━━━━━━\u001b[0m\u001b[37m\u001b[0m \u001b[1m0s\u001b[0m 268us/step\n"
     ]
    },
    {
     "name": "stderr",
     "output_type": "stream",
     "text": [
      "/tmp/ipykernel_83135/1860021247.py:47: DeprecationWarning: Conversion of an array with ndim > 0 to a scalar is deprecated, and will error in future. Ensure you extract a single element from your array before performing this operation. (Deprecated NumPy 1.25.)\n",
      "  'prediction': float(shadow_tr_preds[idx]),\n",
      "/tmp/ipykernel_83135/1860021247.py:58: DeprecationWarning: Conversion of an array with ndim > 0 to a scalar is deprecated, and will error in future. Ensure you extract a single element from your array before performing this operation. (Deprecated NumPy 1.25.)\n",
      "  'prediction': float(shadow_ts_preds[idx]),\n",
      "WARNING:absl:Compiled the loaded model, but the compiled metrics have yet to be built. `model.compile_metrics` will be empty until you train or evaluate the model.\n"
     ]
    },
    {
     "name": "stdout",
     "output_type": "stream",
     "text": [
      "\u001b[1m313/313\u001b[0m \u001b[32m━━━━━━━━━━━━━━━━━━━━\u001b[0m\u001b[37m\u001b[0m \u001b[1m0s\u001b[0m 303us/step\n",
      "\u001b[1m313/313\u001b[0m \u001b[32m━━━━━━━━━━━━━━━━━━━━\u001b[0m\u001b[37m\u001b[0m \u001b[1m0s\u001b[0m 281us/step\n"
     ]
    },
    {
     "name": "stderr",
     "output_type": "stream",
     "text": [
      "WARNING:absl:Compiled the loaded model, but the compiled metrics have yet to be built. `model.compile_metrics` will be empty until you train or evaluate the model.\n"
     ]
    },
    {
     "name": "stdout",
     "output_type": "stream",
     "text": [
      "\u001b[1m313/313\u001b[0m \u001b[32m━━━━━━━━━━━━━━━━━━━━\u001b[0m\u001b[37m\u001b[0m \u001b[1m0s\u001b[0m 374us/step\n",
      "\u001b[1m313/313\u001b[0m \u001b[32m━━━━━━━━━━━━━━━━━━━━\u001b[0m\u001b[37m\u001b[0m \u001b[1m0s\u001b[0m 270us/step\n"
     ]
    },
    {
     "name": "stderr",
     "output_type": "stream",
     "text": [
      "WARNING:absl:Compiled the loaded model, but the compiled metrics have yet to be built. `model.compile_metrics` will be empty until you train or evaluate the model.\n"
     ]
    },
    {
     "name": "stdout",
     "output_type": "stream",
     "text": [
      "\u001b[1m313/313\u001b[0m \u001b[32m━━━━━━━━━━━━━━━━━━━━\u001b[0m\u001b[37m\u001b[0m \u001b[1m0s\u001b[0m 305us/step\n",
      "\u001b[1m313/313\u001b[0m \u001b[32m━━━━━━━━━━━━━━━━━━━━\u001b[0m\u001b[37m\u001b[0m \u001b[1m0s\u001b[0m 269us/step\n"
     ]
    },
    {
     "name": "stderr",
     "output_type": "stream",
     "text": [
      "WARNING:absl:Compiled the loaded model, but the compiled metrics have yet to be built. `model.compile_metrics` will be empty until you train or evaluate the model.\n"
     ]
    },
    {
     "name": "stdout",
     "output_type": "stream",
     "text": [
      "\u001b[1m313/313\u001b[0m \u001b[32m━━━━━━━━━━━━━━━━━━━━\u001b[0m\u001b[37m\u001b[0m \u001b[1m0s\u001b[0m 301us/step\n",
      "\u001b[1m313/313\u001b[0m \u001b[32m━━━━━━━━━━━━━━━━━━━━\u001b[0m\u001b[37m\u001b[0m \u001b[1m0s\u001b[0m 258us/step\n",
      "\n",
      "Test Set Summary:\n",
      "\n",
      "Samples per model:\n",
      "model_name\n",
      "shadow_0     2000\n",
      "shadow_1     2000\n",
      "shadow_2     2000\n",
      "shadow_3     2000\n",
      "shadow_4     2000\n",
      "target      20000\n",
      "dtype: int64\n",
      "\n",
      "Member/Non-member distribution:\n",
      "is_member       0      1\n",
      "model_name              \n",
      "shadow_0     1000   1000\n",
      "shadow_1     1000   1000\n",
      "shadow_2     1000   1000\n",
      "shadow_3     1000   1000\n",
      "shadow_4     1000   1000\n",
      "target      10000  10000\n",
      "\u001b[1m938/938\u001b[0m \u001b[32m━━━━━━━━━━━━━━━━━━━━\u001b[0m\u001b[37m\u001b[0m \u001b[1m0s\u001b[0m 244us/step\n",
      "\n",
      "Performance Analysis by Source:\n",
      "\n",
      "target:\n",
      "Accuracy: 0.499\n",
      "Correctly identified members: 9033\n",
      "Correctly identified non-members: 941\n",
      "\n",
      "shadow_0:\n",
      "Accuracy: 0.500\n",
      "Correctly identified members: 903\n",
      "Correctly identified non-members: 98\n",
      "\n",
      "shadow_1:\n",
      "Accuracy: 0.505\n",
      "Correctly identified members: 912\n",
      "Correctly identified non-members: 99\n",
      "\n",
      "shadow_2:\n",
      "Accuracy: 0.495\n",
      "Correctly identified members: 898\n",
      "Correctly identified non-members: 92\n",
      "\n",
      "shadow_3:\n",
      "Accuracy: 0.499\n",
      "Correctly identified members: 895\n",
      "Correctly identified non-members: 104\n",
      "\n",
      "shadow_4:\n",
      "Accuracy: 0.494\n",
      "Correctly identified members: 896\n",
      "Correctly identified non-members: 92\n"
     ]
    }
   ],
   "source": [
    "# Create a structured array to store predictions and metadata\n",
    "test_set_data = []\n",
    "\n",
    "# Add target model predictions with metadata\n",
    "for idx in range(len(ytemp_tr_target)):\n",
    "    test_set_data.append({\n",
    "        'prediction': float(ytemp_tr_target[idx]),\n",
    "        'is_member': 0,  # member of training set\n",
    "        'true_label': int(ytr_target[idx]),\n",
    "        'model_name': 'target',\n",
    "        'sample_index': idx,\n",
    "        'data_split': 'train'\n",
    "    })\n",
    "\n",
    "for idx in range(len(ytemp_ts_target)):\n",
    "    test_set_data.append({\n",
    "        'prediction': float(ytemp_ts_target[idx]),\n",
    "        'is_member': 1,  # non-member (test set)\n",
    "        'true_label': int(yts_target[idx]),\n",
    "        'model_name': 'target',\n",
    "        'sample_index': idx,\n",
    "        'data_split': 'test'\n",
    "    })\n",
    "\n",
    "# Calculate samples to take from each shadow model\n",
    "shadow_samples_per_model = int(0.2 * data_size)  # 20% of data_size\n",
    "\n",
    "# Add shadow model predictions with metadata\n",
    "for i in np.arange(ns):\n",
    "    model_shadow = load_model(f'UCI_Adult_shadow_{data_size}_{i}.h5')\n",
    "    \n",
    "    # Get predictions from shadow model\n",
    "    shadow_tr_preds = model_shadow.predict(xtr_shadow)\n",
    "    shadow_ts_preds = model_shadow.predict(xts_shadow)\n",
    "    \n",
    "    # Randomly select indices from both train and test sets\n",
    "    train_indices = np.random.choice(len(shadow_tr_preds), \n",
    "                                   shadow_samples_per_model // 2, \n",
    "                                   replace=False)\n",
    "    test_indices = np.random.choice(len(shadow_ts_preds), \n",
    "                                  shadow_samples_per_model // 2, \n",
    "                                  replace=False)\n",
    "    \n",
    "    # Add selected training samples\n",
    "    for idx in train_indices:\n",
    "        test_set_data.append({\n",
    "            'prediction': float(shadow_tr_preds[idx]),\n",
    "            'is_member': 0,  # member of training set\n",
    "            'true_label': int(ytr_shadow[idx]),\n",
    "            'model_name': f'shadow_{i}',\n",
    "            'sample_index': idx,\n",
    "            'data_split': 'train'\n",
    "        })\n",
    "    \n",
    "    # Add selected test samples\n",
    "    for idx in test_indices:\n",
    "        test_set_data.append({\n",
    "            'prediction': float(shadow_ts_preds[idx]),\n",
    "            'is_member': 1,  # non-member (test set)\n",
    "            'true_label': int(yts_shadow[idx]),\n",
    "            'model_name': f'shadow_{i}',\n",
    "            'sample_index': idx,\n",
    "            'data_split': 'test'\n",
    "        })\n",
    "\n",
    "# Convert to pandas DataFrame for easier handling\n",
    "test_set_df = pd.DataFrame(test_set_data)\n",
    "\n",
    "# Create arrays for attack model\n",
    "xts_att_combined = test_set_df['prediction'].values.reshape(-1, 1)\n",
    "yts_att_combined = test_set_df['is_member'].values.reshape(-1, 1)\n",
    "xts_att_truelabels_combined = test_set_df['true_label'].values\n",
    "\n",
    "# Save both the structured DataFrame and the arrays\n",
    "test_set_dict = {\n",
    "    'xts_att': xts_att_combined,\n",
    "    'yts_att': yts_att_combined,\n",
    "    'xts_att_truelabels': xts_att_truelabels_combined,\n",
    "    'metadata': test_set_df\n",
    "}\n",
    "fname = f'./att_test_data_tracked_{data_size}'\n",
    "np.save(fname, test_set_dict)\n",
    "\n",
    "# Train attack model with new test set\n",
    "hist_attack = model_attack.fit(xtr_att, ytr_att,\n",
    "                             batch_size=32,\n",
    "                             epochs=100,\n",
    "                             validation_data=(xts_att_combined, yts_att_combined),\n",
    "                             shuffle=True, verbose=0)\n",
    "\n",
    "# Example analysis using the metadata\n",
    "print(\"\\nTest Set Summary:\")\n",
    "print(\"\\nSamples per model:\")\n",
    "print(test_set_df.groupby('model_name').size())\n",
    "\n",
    "print(\"\\nMember/Non-member distribution:\")\n",
    "print(test_set_df.groupby(['model_name', 'is_member']).size().unstack())\n",
    "\n",
    "# Function to analyze attack model performance by source\n",
    "def analyze_performance_by_source(attack_model, test_set_df):\n",
    "    predictions = attack_model.predict(test_set_df['prediction'].values.reshape(-1, 1))\n",
    "    test_set_df['attack_prediction'] = predictions\n",
    "    \n",
    "    print(\"\\nPerformance Analysis by Source:\")\n",
    "    for model_name in test_set_df['model_name'].unique():\n",
    "        model_data = test_set_df[test_set_df['model_name'] == model_name]\n",
    "        acc = ((model_data['attack_prediction'].round() == model_data['is_member']).mean())\n",
    "        print(f\"\\n{model_name}:\")\n",
    "        print(f\"Accuracy: {acc:.3f}\")\n",
    "        \n",
    "        # Confusion matrix per model\n",
    "        members_correct = ((model_data['attack_prediction'].round() == model_data['is_member']) & \n",
    "                         (model_data['is_member'] == 0)).sum()\n",
    "        nonmembers_correct = ((model_data['attack_prediction'].round() == model_data['is_member']) & \n",
    "                            (model_data['is_member'] == 1)).sum()\n",
    "        print(f\"Correctly identified members: {members_correct}\")\n",
    "        print(f\"Correctly identified non-members: {nonmembers_correct}\")\n",
    "\n",
    "# Run performance analysis\n",
    "analyze_performance_by_source(model_attack, test_set_df)"
   ]
  },
  {
   "cell_type": "code",
   "execution_count": 17,
   "metadata": {},
   "outputs": [
    {
     "data": {
      "text/plain": [
       "{'xts_att': array([[5.30722976e-01],\n",
       "        [6.42804265e-01],\n",
       "        [5.59235811e-01],\n",
       "        ...,\n",
       "        [5.61631732e-02],\n",
       "        [3.51279654e-04],\n",
       "        [5.24006605e-01]]),\n",
       " 'yts_att': array([[0],\n",
       "        [0],\n",
       "        [0],\n",
       "        ...,\n",
       "        [1],\n",
       "        [1],\n",
       "        [1]]),\n",
       " 'xts_att_truelabels': array([1, 0, 0, ..., 0, 0, 0]),\n",
       " 'metadata':        prediction  is_member  true_label model_name  sample_index data_split\n",
       " 0        0.530723          0           1     target             0      train\n",
       " 1        0.642804          0           0     target             1      train\n",
       " 2        0.559236          0           0     target             2      train\n",
       " 3        0.053497          0           0     target             3      train\n",
       " 4        0.638779          0           1     target             4      train\n",
       " ...           ...        ...         ...        ...           ...        ...\n",
       " 29995    0.372411          1           0   shadow_4          7543       test\n",
       " 29996    0.029370          1           0   shadow_4          2179       test\n",
       " 29997    0.056163          1           0   shadow_4          1110       test\n",
       " 29998    0.000351          1           0   shadow_4          3481       test\n",
       " 29999    0.524007          1           0   shadow_4          7195       test\n",
       " \n",
       " [30000 rows x 6 columns]}"
      ]
     },
     "execution_count": 17,
     "metadata": {},
     "output_type": "execute_result"
    }
   ],
   "source": [
    "test_set_dict{'metadata': }"
   ]
  },
  {
   "cell_type": "code",
   "execution_count": 18,
   "metadata": {},
   "outputs": [
    {
     "name": "stdout",
     "output_type": "stream",
     "text": [
      "xts_att: 30000\n",
      "yts_att: 30000\n",
      "xts_att_truelabels: 30000\n",
      "metadata: 30000\n"
     ]
    }
   ],
   "source": [
    "for key, value in test_set_dict.items():\n",
    "  print(f'{key}: {len(value)}')"
   ]
  },
  {
   "cell_type": "code",
   "execution_count": 19,
   "metadata": {},
   "outputs": [
    {
     "data": {
      "text/html": [
       "<div>\n",
       "<style scoped>\n",
       "    .dataframe tbody tr th:only-of-type {\n",
       "        vertical-align: middle;\n",
       "    }\n",
       "\n",
       "    .dataframe tbody tr th {\n",
       "        vertical-align: top;\n",
       "    }\n",
       "\n",
       "    .dataframe thead th {\n",
       "        text-align: right;\n",
       "    }\n",
       "</style>\n",
       "<table border=\"1\" class=\"dataframe\">\n",
       "  <thead>\n",
       "    <tr style=\"text-align: right;\">\n",
       "      <th></th>\n",
       "      <th>prediction</th>\n",
       "      <th>is_member</th>\n",
       "      <th>true_label</th>\n",
       "      <th>model_name</th>\n",
       "      <th>sample_index</th>\n",
       "      <th>data_split</th>\n",
       "    </tr>\n",
       "  </thead>\n",
       "  <tbody>\n",
       "    <tr>\n",
       "      <th>0</th>\n",
       "      <td>0.530723</td>\n",
       "      <td>0</td>\n",
       "      <td>1</td>\n",
       "      <td>target</td>\n",
       "      <td>0</td>\n",
       "      <td>train</td>\n",
       "    </tr>\n",
       "    <tr>\n",
       "      <th>1</th>\n",
       "      <td>0.642804</td>\n",
       "      <td>0</td>\n",
       "      <td>0</td>\n",
       "      <td>target</td>\n",
       "      <td>1</td>\n",
       "      <td>train</td>\n",
       "    </tr>\n",
       "    <tr>\n",
       "      <th>2</th>\n",
       "      <td>0.559236</td>\n",
       "      <td>0</td>\n",
       "      <td>0</td>\n",
       "      <td>target</td>\n",
       "      <td>2</td>\n",
       "      <td>train</td>\n",
       "    </tr>\n",
       "    <tr>\n",
       "      <th>3</th>\n",
       "      <td>0.053497</td>\n",
       "      <td>0</td>\n",
       "      <td>0</td>\n",
       "      <td>target</td>\n",
       "      <td>3</td>\n",
       "      <td>train</td>\n",
       "    </tr>\n",
       "    <tr>\n",
       "      <th>4</th>\n",
       "      <td>0.638779</td>\n",
       "      <td>0</td>\n",
       "      <td>1</td>\n",
       "      <td>target</td>\n",
       "      <td>4</td>\n",
       "      <td>train</td>\n",
       "    </tr>\n",
       "    <tr>\n",
       "      <th>...</th>\n",
       "      <td>...</td>\n",
       "      <td>...</td>\n",
       "      <td>...</td>\n",
       "      <td>...</td>\n",
       "      <td>...</td>\n",
       "      <td>...</td>\n",
       "    </tr>\n",
       "    <tr>\n",
       "      <th>29995</th>\n",
       "      <td>0.372411</td>\n",
       "      <td>1</td>\n",
       "      <td>0</td>\n",
       "      <td>shadow_4</td>\n",
       "      <td>7543</td>\n",
       "      <td>test</td>\n",
       "    </tr>\n",
       "    <tr>\n",
       "      <th>29996</th>\n",
       "      <td>0.029370</td>\n",
       "      <td>1</td>\n",
       "      <td>0</td>\n",
       "      <td>shadow_4</td>\n",
       "      <td>2179</td>\n",
       "      <td>test</td>\n",
       "    </tr>\n",
       "    <tr>\n",
       "      <th>29997</th>\n",
       "      <td>0.056163</td>\n",
       "      <td>1</td>\n",
       "      <td>0</td>\n",
       "      <td>shadow_4</td>\n",
       "      <td>1110</td>\n",
       "      <td>test</td>\n",
       "    </tr>\n",
       "    <tr>\n",
       "      <th>29998</th>\n",
       "      <td>0.000351</td>\n",
       "      <td>1</td>\n",
       "      <td>0</td>\n",
       "      <td>shadow_4</td>\n",
       "      <td>3481</td>\n",
       "      <td>test</td>\n",
       "    </tr>\n",
       "    <tr>\n",
       "      <th>29999</th>\n",
       "      <td>0.524007</td>\n",
       "      <td>1</td>\n",
       "      <td>0</td>\n",
       "      <td>shadow_4</td>\n",
       "      <td>7195</td>\n",
       "      <td>test</td>\n",
       "    </tr>\n",
       "  </tbody>\n",
       "</table>\n",
       "<p>30000 rows × 6 columns</p>\n",
       "</div>"
      ],
      "text/plain": [
       "       prediction  is_member  true_label model_name  sample_index data_split\n",
       "0        0.530723          0           1     target             0      train\n",
       "1        0.642804          0           0     target             1      train\n",
       "2        0.559236          0           0     target             2      train\n",
       "3        0.053497          0           0     target             3      train\n",
       "4        0.638779          0           1     target             4      train\n",
       "...           ...        ...         ...        ...           ...        ...\n",
       "29995    0.372411          1           0   shadow_4          7543       test\n",
       "29996    0.029370          1           0   shadow_4          2179       test\n",
       "29997    0.056163          1           0   shadow_4          1110       test\n",
       "29998    0.000351          1           0   shadow_4          3481       test\n",
       "29999    0.524007          1           0   shadow_4          7195       test\n",
       "\n",
       "[30000 rows x 6 columns]"
      ]
     },
     "execution_count": 19,
     "metadata": {},
     "output_type": "execute_result"
    }
   ],
   "source": [
    "test_set_df"
   ]
  },
  {
   "cell_type": "markdown",
   "metadata": {
    "id": "o2s68-vMDXXu"
   },
   "source": [
    "## SHAP"
   ]
  },
  {
   "cell_type": "code",
   "execution_count": null,
   "metadata": {
    "colab": {
     "base_uri": "https://localhost:8080/",
     "height": 215
    },
    "id": "sNdxHr7v9viN",
    "outputId": "276bbfcd-a196-476f-ae99-484f76492383"
   },
   "outputs": [
    {
     "name": "stderr",
     "output_type": "stream",
     "text": [
      "ExactExplainer explainer: 1001it [00:10,  6.77it/s]                          \n"
     ]
    },
    {
     "data": {
      "image/png": "[encoded data removed]",
      "text/plain": [
       "<Figure size 800x190 with 2 Axes>"
      ]
     },
     "metadata": {},
     "output_type": "display_data"
    }
   ],
   "source": [
    "import shap\n",
    "\n",
    "# Criar o explicador SHAP para o modelo de ataque, com base nas previsões dos modelos sombra no conjunto de treinamento (xtr_att)\n",
    "explainer = shap.Explainer(model_attack, xtr_att[:1000])\n",
    "\n",
    "# Calcular os valores SHAP para as primeiras 1000 amostras do conjunto de teste (xts_att contém as previsões do modelo alvo)\n",
    "shap_values = explainer(xtr_att[:1000])  # xts_att contém as previsões do modelo alvo\n",
    "\n",
    "# Exibir um resumo das contribuições das características (as previsões dos modelos sombra)\n",
    "shap.summary_plot(shap_values, xtr_att[:1000])\n",
    "\n",
    "\n"
   ]
  },
  {
   "cell_type": "code",
   "execution_count": null,
   "metadata": {
    "colab": {
     "base_uri": "https://localhost:8080/",
     "height": 69
    },
    "id": "MSctXPvE90i6",
    "outputId": "4388face-8668-4a6c-d819-074cf2393874"
   },
   "outputs": [
    {
     "data": {
      "text/html": [
       "\n",
       "<div id='i05XQ9NEWVGL0X0YIR4YY'>\n",
       "<div style='color: #900; text-align: center;'>\n",
       "  <b>Visualization omitted, Javascript library not loaded!</b><br>\n",
       "  Have you run `initjs()` in this notebook? If this notebook was from another\n",
       "  user you must also trust this notebook (File -> Trust notebook). If you are viewing\n",
       "  this notebook on github the Javascript has been stripped for security. If you are using\n",
       "  JupyterLab this error is because a JupyterLab extension has not yet been written.\n",
       "</div></div>\n",
       " <script>\n",
       "   if (window.SHAP) SHAP.ReactDom.render(\n",
       "    SHAP.React.createElement(SHAP.AdditiveForceVisualizer, {\"outNames\": [\"f(x)\"], \"baseValue\": 0.5009300172328949, \"outValue\": 0.5009479522705078, \"link\": \"identity\", \"featureNames\": [\"Feature 0\"], \"features\": {\"0\": {\"effect\": 1.7935037612937244e-05, \"value\": 0.5740676522254944}}, \"plot_cmap\": \"RdBu\", \"labelMargin\": 20}),\n",
       "    document.getElementById('i05XQ9NEWVGL0X0YIR4YY')\n",
       "  );\n",
       "</script>"
      ],
      "text/plain": [
       "<shap.plots._force.AdditiveForceVisualizer at 0x7fc2411e4850>"
      ]
     },
     "execution_count": 50,
     "metadata": {},
     "output_type": "execute_result"
    }
   ],
   "source": [
    "# Visualizar as contribuições de uma amostra específica (primeira amostra, por exemplo)\n",
    "shap.force_plot(shap_values[0])\n",
    "\n"
   ]
  },
  {
   "cell_type": "code",
   "execution_count": null,
   "metadata": {
    "colab": {
     "base_uri": "https://localhost:8080/",
     "height": 315
    },
    "id": "oSFopGRXBVG9",
    "outputId": "fa8d7b16-3534-4430-bc5f-82b87d25c094"
   },
   "outputs": [],
   "source": [
    "# Visualizar a relação entre uma característica específica e sua contribuição (dependence plot)\n",
    "shap.dependence_plot(0, shap_values, xtr_att[:1000])"
   ]
  },
  {
   "cell_type": "code",
   "execution_count": null,
   "metadata": {
    "colab": {
     "base_uri": "https://localhost:8080/"
    },
    "id": "88VbR14rDl-D",
    "outputId": "150fa331-c367-480b-dae3-b081fc42e93b"
   },
   "outputs": [
    {
     "name": "stdout",
     "output_type": "stream",
     "text": [
      "Top 10 amostras mais importantes para o treinamento do modelo de ataque:\n",
      "Amostra 50 com importância 0.00010251939296723744\n",
      "Amostra 387 com importância 0.00010359227657319448\n",
      "Amostra 7 com importância 0.0001040691137313976\n",
      "Amostra 304 com importância 0.00010585725307465932\n",
      "Amostra 920 com importância 0.00010716855525971791\n",
      "Amostra 216 com importância 0.00010818183422089955\n",
      "Amostra 312 com importância 0.00010818183422089955\n",
      "Amostra 574 com importância 0.00010818183422089955\n",
      "Amostra 762 com importância 0.00010818183422089955\n",
      "Amostra 931 com importância 0.00010818183422089955\n"
     ]
    }
   ],
   "source": [
    "importance = np.abs(shap_values.values).mean(axis=1)  # Média dos valores absolutos de SHAP para cada amostra\n",
    "\n",
    "# Ordenar as amostras por sua importância\n",
    "top_10_idx = np.argsort(importance)[-10:]  # Índices das 10 amostras mais importantes\n",
    "\n",
    "# Visualizar as 10 amostras mais importantes\n",
    "print(\"Top 10 amostras mais importantes para o treinamento do modelo de ataque:\")\n",
    "for idx in top_10_idx:\n",
    "    print(f\"Amostra {idx} com importância {importance[idx]}\")"
   ]
  },
  {
   "cell_type": "markdown",
   "metadata": {
    "id": "dDALWKcdDmQB"
   },
   "source": [
    "## SHAP Rastreado"
   ]
  },
  {
   "cell_type": "code",
   "execution_count": null,
   "metadata": {},
   "outputs": [],
   "source": [
    "import shap\n",
    "\n",
    "# First create the structured test data with differences between models\n",
    "def create_model_differences_dataset(test_set_df):\n",
    "    # Pivot the predictions to get one column per model\n",
    "    model_predictions = pd.pivot_table(\n",
    "        test_set_df,\n",
    "        values='prediction',\n",
    "        index='sample_index',\n",
    "        columns='model_name',\n",
    "        aggfunc='first'\n",
    "    ).reset_index()\n",
    "    \n",
    "    # Calculate differences between target and each shadow model\n",
    "    difference_features = []\n",
    "    feature_names = []\n",
    "    \n",
    "    # Get all shadow model names\n",
    "    shadow_models = [col for col in model_predictions.columns if 'shadow' in col]\n",
    "    \n",
    "    for shadow in shadow_models:\n",
    "        diff_col = f'diff_{shadow}_target'\n",
    "        model_predictions[diff_col] = model_predictions[shadow] - model_predictions['target']\n",
    "        difference_features.append(model_predictions[diff_col])\n",
    "        feature_names.append(f'Difference ({shadow} - target)')\n",
    "    \n",
    "    # Stack differences into a numpy array\n",
    "    X_diff = np.column_stack(difference_features)\n",
    "    \n",
    "    return X_diff, feature_names\n",
    "\n",
    "# Create the difference features\n",
    "X_diff, feature_names = create_model_differences_dataset(test_set_df)\n",
    "\n",
    "# Create SHAP explainer with the difference features\n",
    "explainer = shap.Explainer(model_attack, X_diff)\n",
    "\n",
    "# Calculate SHAP values\n",
    "shap_values = explainer(X_diff)\n",
    "\n",
    "# Plot SHAP summary\n",
    "plt.figure(figsize=(10, 6))\n",
    "shap.summary_plot(shap_values, X_diff, feature_names=feature_names)\n",
    "plt.title(\"SHAP Values for Model Differences\")\n",
    "\n",
    "# Create detailed analysis of SHAP values\n",
    "def analyze_shap_by_membership(shap_values, X_diff, test_set_df, feature_names):\n",
    "    # Get unique sample indices\n",
    "    sample_indices = test_set_df['sample_index'].unique()\n",
    "    \n",
    "    # Create DataFrame with SHAP values and metadata\n",
    "    shap_df = pd.DataFrame(shap_values.values, columns=feature_names)\n",
    "    shap_df['is_member'] = test_set_df['is_member']\n",
    "    shap_df['true_label'] = test_set_df['true_label']\n",
    "    \n",
    "    print(\"\\nSHAP Analysis by Membership Status:\")\n",
    "    print(\"\\nAverage absolute SHAP values for members vs non-members:\")\n",
    "    member_shap = shap_df[shap_df['is_member'] == 0][feature_names].abs().mean()\n",
    "    nonmember_shap = shap_df[shap_df['is_member'] == 1][feature_names].abs().mean()\n",
    "    \n",
    "    comparison_df = pd.DataFrame({\n",
    "        'Member Impact': member_shap,\n",
    "        'Non-member Impact': nonmember_shap\n",
    "    })\n",
    "    print(comparison_df)\n",
    "    \n",
    "    # Plot SHAP values separately for members and non-members\n",
    "    plt.figure(figsize=(15, 6))\n",
    "    \n",
    "    plt.subplot(1, 2, 1)\n",
    "    shap.summary_plot(\n",
    "        shap_values[test_set_df['is_member'] == 0],\n",
    "        X_diff[test_set_df['is_member'] == 0],\n",
    "        feature_names=feature_names,\n",
    "        title=\"SHAP Values for Members\",\n",
    "        show=False\n",
    "    )\n",
    "    \n",
    "    plt.subplot(1, 2, 2)\n",
    "    shap.summary_plot(\n",
    "        shap_values[test_set_df['is_member'] == 1],\n",
    "        X_diff[test_set_df['is_member'] == 1],\n",
    "        feature_names=feature_names,\n",
    "        title=\"SHAP Values for Non-members\",\n",
    "        show=False\n",
    "    )\n",
    "    \n",
    "    plt.tight_layout()\n",
    "    plt.show()\n",
    "\n",
    "# Run the detailed SHAP analysis\n",
    "analyze_shap_by_membership(shap_values, X_diff, test_set_df, feature_names)\n",
    "\n",
    "# Save the SHAP analysis results\n",
    "shap_results = {\n",
    "    'shap_values': shap_values.values,\n",
    "    'feature_names': feature_names,\n",
    "    'X_diff': X_diff,\n",
    "    'metadata': test_set_df\n",
    "}\n",
    "np.save(f'./shap_analysis_results_{data_size}.npy', shap_results)"
   ]
  },
  {
   "cell_type": "markdown",
   "metadata": {},
   "source": [
    "## SHap Rastreado 2"
   ]
  },
  {
   "cell_type": "code",
   "execution_count": 28,
   "metadata": {},
   "outputs": [
    {
     "ename": "KeyError",
     "evalue": "'target'",
     "output_type": "error",
     "traceback": [
      "\u001b[0;31m---------------------------------------------------------------------------\u001b[0m",
      "\u001b[0;31mKeyError\u001b[0m                                  Traceback (most recent call last)",
      "File \u001b[0;32m/media/emanuel/sdd_sata/projetos/projeto_mestrado_ofc/.venv/lib/python3.12/site-packages/pandas/core/indexes/base.py:3805\u001b[0m, in \u001b[0;36mIndex.get_loc\u001b[0;34m(self, key)\u001b[0m\n\u001b[1;32m   3804\u001b[0m \u001b[38;5;28;01mtry\u001b[39;00m:\n\u001b[0;32m-> 3805\u001b[0m     \u001b[38;5;28;01mreturn\u001b[39;00m \u001b[38;5;28;43mself\u001b[39;49m\u001b[38;5;241;43m.\u001b[39;49m\u001b[43m_engine\u001b[49m\u001b[38;5;241;43m.\u001b[39;49m\u001b[43mget_loc\u001b[49m\u001b[43m(\u001b[49m\u001b[43mcasted_key\u001b[49m\u001b[43m)\u001b[49m\n\u001b[1;32m   3806\u001b[0m \u001b[38;5;28;01mexcept\u001b[39;00m \u001b[38;5;167;01mKeyError\u001b[39;00m \u001b[38;5;28;01mas\u001b[39;00m err:\n",
      "File \u001b[0;32mindex.pyx:167\u001b[0m, in \u001b[0;36mpandas._libs.index.IndexEngine.get_loc\u001b[0;34m()\u001b[0m\n",
      "File \u001b[0;32mindex.pyx:196\u001b[0m, in \u001b[0;36mpandas._libs.index.IndexEngine.get_loc\u001b[0;34m()\u001b[0m\n",
      "File \u001b[0;32mpandas/_libs/hashtable_class_helper.pxi:7081\u001b[0m, in \u001b[0;36mpandas._libs.hashtable.PyObjectHashTable.get_item\u001b[0;34m()\u001b[0m\n",
      "File \u001b[0;32mpandas/_libs/hashtable_class_helper.pxi:7089\u001b[0m, in \u001b[0;36mpandas._libs.hashtable.PyObjectHashTable.get_item\u001b[0;34m()\u001b[0m\n",
      "\u001b[0;31mKeyError\u001b[0m: 'target'",
      "\nThe above exception was the direct cause of the following exception:\n",
      "\u001b[0;31mKeyError\u001b[0m                                  Traceback (most recent call last)",
      "Cell \u001b[0;32mIn[28], line 48\u001b[0m\n\u001b[1;32m     45\u001b[0m     \u001b[38;5;28;01mreturn\u001b[39;00m X_diff, feature_names\n\u001b[1;32m     47\u001b[0m \u001b[38;5;66;03m# Create training and test datasets with differences\u001b[39;00m\n\u001b[0;32m---> 48\u001b[0m X_train_diff, feature_names \u001b[38;5;241m=\u001b[39m \u001b[43mcreate_difference_features\u001b[49m\u001b[43m(\u001b[49m\u001b[43mtrain_set_df\u001b[49m\u001b[43m,\u001b[49m\u001b[43m \u001b[49m\u001b[43mis_training\u001b[49m\u001b[38;5;241;43m=\u001b[39;49m\u001b[38;5;28;43;01mTrue\u001b[39;49;00m\u001b[43m)\u001b[49m\n\u001b[1;32m     49\u001b[0m X_test_diff, _ \u001b[38;5;241m=\u001b[39m create_difference_features(test_set_df, is_training\u001b[38;5;241m=\u001b[39m\u001b[38;5;28;01mFalse\u001b[39;00m)\n\u001b[1;32m     51\u001b[0m \u001b[38;5;66;03m# Create and train the modified attack model\u001b[39;00m\n",
      "Cell \u001b[0;32mIn[28], line 38\u001b[0m, in \u001b[0;36mcreate_difference_features\u001b[0;34m(predictions_df, is_training)\u001b[0m\n\u001b[1;32m     36\u001b[0m \u001b[38;5;28;01mfor\u001b[39;00m shadow \u001b[38;5;129;01min\u001b[39;00m shadow_models:\n\u001b[1;32m     37\u001b[0m     diff_col \u001b[38;5;241m=\u001b[39m \u001b[38;5;124mf\u001b[39m\u001b[38;5;124m'\u001b[39m\u001b[38;5;124mdiff_\u001b[39m\u001b[38;5;132;01m{\u001b[39;00mshadow\u001b[38;5;132;01m}\u001b[39;00m\u001b[38;5;124m_target\u001b[39m\u001b[38;5;124m'\u001b[39m\n\u001b[0;32m---> 38\u001b[0m     model_predictions[diff_col] \u001b[38;5;241m=\u001b[39m model_predictions[shadow] \u001b[38;5;241m-\u001b[39m \u001b[43mmodel_predictions\u001b[49m\u001b[43m[\u001b[49m\u001b[38;5;124;43m'\u001b[39;49m\u001b[38;5;124;43mtarget\u001b[39;49m\u001b[38;5;124;43m'\u001b[39;49m\u001b[43m]\u001b[49m\n\u001b[1;32m     39\u001b[0m     difference_features\u001b[38;5;241m.\u001b[39mappend(model_predictions[diff_col])\n\u001b[1;32m     40\u001b[0m     feature_names\u001b[38;5;241m.\u001b[39mappend(\u001b[38;5;124mf\u001b[39m\u001b[38;5;124m'\u001b[39m\u001b[38;5;124mDifference (\u001b[39m\u001b[38;5;132;01m{\u001b[39;00mshadow\u001b[38;5;132;01m}\u001b[39;00m\u001b[38;5;124m - target)\u001b[39m\u001b[38;5;124m'\u001b[39m)\n",
      "File \u001b[0;32m/media/emanuel/sdd_sata/projetos/projeto_mestrado_ofc/.venv/lib/python3.12/site-packages/pandas/core/frame.py:4102\u001b[0m, in \u001b[0;36mDataFrame.__getitem__\u001b[0;34m(self, key)\u001b[0m\n\u001b[1;32m   4100\u001b[0m \u001b[38;5;28;01mif\u001b[39;00m \u001b[38;5;28mself\u001b[39m\u001b[38;5;241m.\u001b[39mcolumns\u001b[38;5;241m.\u001b[39mnlevels \u001b[38;5;241m>\u001b[39m \u001b[38;5;241m1\u001b[39m:\n\u001b[1;32m   4101\u001b[0m     \u001b[38;5;28;01mreturn\u001b[39;00m \u001b[38;5;28mself\u001b[39m\u001b[38;5;241m.\u001b[39m_getitem_multilevel(key)\n\u001b[0;32m-> 4102\u001b[0m indexer \u001b[38;5;241m=\u001b[39m \u001b[38;5;28;43mself\u001b[39;49m\u001b[38;5;241;43m.\u001b[39;49m\u001b[43mcolumns\u001b[49m\u001b[38;5;241;43m.\u001b[39;49m\u001b[43mget_loc\u001b[49m\u001b[43m(\u001b[49m\u001b[43mkey\u001b[49m\u001b[43m)\u001b[49m\n\u001b[1;32m   4103\u001b[0m \u001b[38;5;28;01mif\u001b[39;00m is_integer(indexer):\n\u001b[1;32m   4104\u001b[0m     indexer \u001b[38;5;241m=\u001b[39m [indexer]\n",
      "File \u001b[0;32m/media/emanuel/sdd_sata/projetos/projeto_mestrado_ofc/.venv/lib/python3.12/site-packages/pandas/core/indexes/base.py:3812\u001b[0m, in \u001b[0;36mIndex.get_loc\u001b[0;34m(self, key)\u001b[0m\n\u001b[1;32m   3807\u001b[0m     \u001b[38;5;28;01mif\u001b[39;00m \u001b[38;5;28misinstance\u001b[39m(casted_key, \u001b[38;5;28mslice\u001b[39m) \u001b[38;5;129;01mor\u001b[39;00m (\n\u001b[1;32m   3808\u001b[0m         \u001b[38;5;28misinstance\u001b[39m(casted_key, abc\u001b[38;5;241m.\u001b[39mIterable)\n\u001b[1;32m   3809\u001b[0m         \u001b[38;5;129;01mand\u001b[39;00m \u001b[38;5;28many\u001b[39m(\u001b[38;5;28misinstance\u001b[39m(x, \u001b[38;5;28mslice\u001b[39m) \u001b[38;5;28;01mfor\u001b[39;00m x \u001b[38;5;129;01min\u001b[39;00m casted_key)\n\u001b[1;32m   3810\u001b[0m     ):\n\u001b[1;32m   3811\u001b[0m         \u001b[38;5;28;01mraise\u001b[39;00m InvalidIndexError(key)\n\u001b[0;32m-> 3812\u001b[0m     \u001b[38;5;28;01mraise\u001b[39;00m \u001b[38;5;167;01mKeyError\u001b[39;00m(key) \u001b[38;5;28;01mfrom\u001b[39;00m\u001b[38;5;250m \u001b[39m\u001b[38;5;21;01merr\u001b[39;00m\n\u001b[1;32m   3813\u001b[0m \u001b[38;5;28;01mexcept\u001b[39;00m \u001b[38;5;167;01mTypeError\u001b[39;00m:\n\u001b[1;32m   3814\u001b[0m     \u001b[38;5;66;03m# If we have a listlike key, _check_indexing_error will raise\u001b[39;00m\n\u001b[1;32m   3815\u001b[0m     \u001b[38;5;66;03m#  InvalidIndexError. Otherwise we fall through and re-raise\u001b[39;00m\n\u001b[1;32m   3816\u001b[0m     \u001b[38;5;66;03m#  the TypeError.\u001b[39;00m\n\u001b[1;32m   3817\u001b[0m     \u001b[38;5;28mself\u001b[39m\u001b[38;5;241m.\u001b[39m_check_indexing_error(key)\n",
      "\u001b[0;31mKeyError\u001b[0m: 'target'"
     ]
    }
   ],
   "source": [
    "# First, modify the attack model to accept the difference features\n",
    "def create_attack_model_with_differences(num_shadow_models):\n",
    "    \"\"\"Creates attack model that accepts differences between models as features\"\"\"\n",
    "    num_features = num_shadow_models  # number of differences (each shadow model vs target)\n",
    "    \n",
    "    model_attack = Sequential([\n",
    "        # Input shape matches number of difference features\n",
    "        Dense(5, input_shape=(num_features,), activation='sigmoid', name='hidden'),\n",
    "        Dense(1, activation='sigmoid', name='output')\n",
    "    ])\n",
    "    \n",
    "    opt = keras.optimizers.Adam(learning_rate=0.001, decay=1e-7)\n",
    "    model_attack.compile(loss='binary_crossentropy', optimizer=opt, metrics=['accuracy'])\n",
    "    \n",
    "    return model_attack\n",
    "\n",
    "# Create the difference features for training data\n",
    "def create_difference_features(predictions_df, is_training=True):\n",
    "    \"\"\"Creates features based on differences between model predictions\"\"\"\n",
    "    # Pivot the predictions to get one column per model\n",
    "    model_predictions = pd.pivot_table(\n",
    "        predictions_df,\n",
    "        values='prediction',\n",
    "        index='sample_index',\n",
    "        columns='model_name',\n",
    "        aggfunc='first'\n",
    "    ).reset_index()\n",
    "    \n",
    "    # Calculate differences between target and each shadow model\n",
    "    difference_features = []\n",
    "    feature_names = []\n",
    "    \n",
    "    # Get all shadow model names\n",
    "    shadow_models = [col for col in model_predictions.columns if 'shadow' in col]\n",
    "    \n",
    "    for shadow in shadow_models:\n",
    "        diff_col = f'diff_{shadow}_target'\n",
    "        model_predictions[diff_col] = model_predictions[shadow] - model_predictions['target']\n",
    "        difference_features.append(model_predictions[diff_col])\n",
    "        feature_names.append(f'Difference ({shadow} - target)')\n",
    "    \n",
    "    # Stack differences into a numpy array\n",
    "    X_diff = np.column_stack(difference_features)\n",
    "    \n",
    "    return X_diff, feature_names\n",
    "\n",
    "# Create training and test datasets with differences\n",
    "X_train_diff, feature_names = create_difference_features(train_set_df, is_training=True)\n",
    "X_test_diff, _ = create_difference_features(test_set_df, is_training=False)\n",
    "\n",
    "# Create and train the modified attack model\n",
    "num_shadow_models = 5  # adjust based on your ns value\n",
    "model_attack = create_attack_model_with_differences(num_shadow_models)\n",
    "\n",
    "# Train the model with the difference features\n",
    "hist_attack = model_attack.fit(\n",
    "    X_train_diff, ytr_att,\n",
    "    batch_size=32,\n",
    "    epochs=100,\n",
    "    validation_data=(X_test_diff, yts_att_combined),\n",
    "    shuffle=True,\n",
    "    verbose=0\n",
    ")\n",
    "\n",
    "# Now create SHAP explainer with the difference features\n",
    "explainer = shap.Explainer(model_attack, X_train_diff[:1000])  # Use subset for efficiency\n",
    "shap_values = explainer(X_test_diff)\n",
    "\n",
    "# Plot SHAP summary\n",
    "plt.figure(figsize=(10, 6))\n",
    "shap.summary_plot(\n",
    "    shap_values, \n",
    "    X_test_diff,\n",
    "    feature_names=feature_names,\n",
    "    show=False\n",
    ")\n",
    "plt.title(\"SHAP Values for Model Differences\")\n",
    "plt.tight_layout()\n",
    "plt.show()\n",
    "\n",
    "# Create detailed analysis of SHAP values\n",
    "def analyze_shap_by_membership(shap_values, X_diff, test_set_df, feature_names):\n",
    "    \"\"\"Analyzes SHAP values separately for members and non-members\"\"\"\n",
    "    # Create DataFrame with SHAP values and metadata\n",
    "    shap_df = pd.DataFrame(shap_values.values, columns=feature_names)\n",
    "    shap_df['is_member'] = test_set_df['is_member']\n",
    "    \n",
    "    # Calculate average absolute SHAP values\n",
    "    print(\"\\nAverage absolute SHAP values:\")\n",
    "    print(\"\\nFor members:\")\n",
    "    print(shap_df[shap_df['is_member'] == 0][feature_names].abs().mean())\n",
    "    print(\"\\nFor non-members:\")\n",
    "    print(shap_df[shap_df['is_member'] == 1][feature_names].abs().mean())\n",
    "    \n",
    "    # Create separate plots for members and non-members\n",
    "    fig, (ax1, ax2) = plt.subplots(1, 2, figsize=(15, 6))\n",
    "    \n",
    "    # Members\n",
    "    member_mask = test_set_df['is_member'] == 0\n",
    "    shap.summary_plot(\n",
    "        shap_values[member_mask],\n",
    "        X_diff[member_mask],\n",
    "        feature_names=feature_names,\n",
    "        ax=ax1,\n",
    "        show=False\n",
    "    )\n",
    "    ax1.set_title(\"SHAP Values for Members\")\n",
    "    \n",
    "    # Non-members\n",
    "    non_member_mask = test_set_df['is_member'] == 1\n",
    "    shap.summary_plot(\n",
    "        shap_values[non_member_mask],\n",
    "        X_diff[non_member_mask],\n",
    "        feature_names=feature_names,\n",
    "        ax=ax2,\n",
    "        show=False\n",
    "    )\n",
    "    ax2.set_title(\"SHAP Values for Non-members\")\n",
    "    \n",
    "    plt.tight_layout()\n",
    "    plt.show()\n",
    "\n",
    "# Run the analysis\n",
    "analyze_shap_by_membership(shap_values, X_test_diff, test_set_df, feature_names)"
   ]
  },
  {
   "cell_type": "markdown",
   "metadata": {},
   "source": [
    "## Rastreando conjunto de treino"
   ]
  },
  {
   "cell_type": "code",
   "execution_count": null,
   "metadata": {},
   "outputs": [],
   "source": []
  },
  {
   "cell_type": "code",
   "execution_count": null,
   "metadata": {},
   "outputs": [],
   "source": []
  },
  {
   "cell_type": "code",
   "execution_count": 25,
   "metadata": {},
   "outputs": [
    {
     "name": "stderr",
     "output_type": "stream",
     "text": [
      "WARNING:absl:Compiled the loaded model, but the compiled metrics have yet to be built. `model.compile_metrics` will be empty until you train or evaluate the model.\n"
     ]
    },
    {
     "name": "stdout",
     "output_type": "stream",
     "text": [
      "\u001b[1m313/313\u001b[0m \u001b[32m━━━━━━━━━━━━━━━━━━━━\u001b[0m\u001b[37m\u001b[0m \u001b[1m0s\u001b[0m 318us/step\n",
      "\u001b[1m313/313\u001b[0m \u001b[32m━━━━━━━━━━━━━━━━━━━━\u001b[0m\u001b[37m\u001b[0m \u001b[1m0s\u001b[0m 279us/step\n"
     ]
    },
    {
     "name": "stderr",
     "output_type": "stream",
     "text": [
      "/tmp/ipykernel_83135/1336513710.py:15: DeprecationWarning: Conversion of an array with ndim > 0 to a scalar is deprecated, and will error in future. Ensure you extract a single element from your array before performing this operation. (Deprecated NumPy 1.25.)\n",
      "  'prediction': float(shadow_tr_preds[idx]),\n",
      "/tmp/ipykernel_83135/1336513710.py:26: DeprecationWarning: Conversion of an array with ndim > 0 to a scalar is deprecated, and will error in future. Ensure you extract a single element from your array before performing this operation. (Deprecated NumPy 1.25.)\n",
      "  'prediction': float(shadow_ts_preds[idx]),\n",
      "WARNING:absl:Compiled the loaded model, but the compiled metrics have yet to be built. `model.compile_metrics` will be empty until you train or evaluate the model.\n"
     ]
    },
    {
     "name": "stdout",
     "output_type": "stream",
     "text": [
      "\u001b[1m313/313\u001b[0m \u001b[32m━━━━━━━━━━━━━━━━━━━━\u001b[0m\u001b[37m\u001b[0m \u001b[1m0s\u001b[0m 300us/step\n",
      "\u001b[1m313/313\u001b[0m \u001b[32m━━━━━━━━━━━━━━━━━━━━\u001b[0m\u001b[37m\u001b[0m \u001b[1m0s\u001b[0m 255us/step\n"
     ]
    },
    {
     "name": "stderr",
     "output_type": "stream",
     "text": [
      "WARNING:absl:Compiled the loaded model, but the compiled metrics have yet to be built. `model.compile_metrics` will be empty until you train or evaluate the model.\n"
     ]
    },
    {
     "name": "stdout",
     "output_type": "stream",
     "text": [
      "\u001b[1m313/313\u001b[0m \u001b[32m━━━━━━━━━━━━━━━━━━━━\u001b[0m\u001b[37m\u001b[0m \u001b[1m0s\u001b[0m 289us/step\n",
      "\u001b[1m313/313\u001b[0m \u001b[32m━━━━━━━━━━━━━━━━━━━━\u001b[0m\u001b[37m\u001b[0m \u001b[1m0s\u001b[0m 276us/step\n"
     ]
    },
    {
     "name": "stderr",
     "output_type": "stream",
     "text": [
      "WARNING:absl:Compiled the loaded model, but the compiled metrics have yet to be built. `model.compile_metrics` will be empty until you train or evaluate the model.\n"
     ]
    },
    {
     "name": "stdout",
     "output_type": "stream",
     "text": [
      "\u001b[1m313/313\u001b[0m \u001b[32m━━━━━━━━━━━━━━━━━━━━\u001b[0m\u001b[37m\u001b[0m \u001b[1m0s\u001b[0m 305us/step\n",
      "\u001b[1m313/313\u001b[0m \u001b[32m━━━━━━━━━━━━━━━━━━━━\u001b[0m\u001b[37m\u001b[0m \u001b[1m0s\u001b[0m 266us/step\n"
     ]
    },
    {
     "name": "stderr",
     "output_type": "stream",
     "text": [
      "WARNING:absl:Compiled the loaded model, but the compiled metrics have yet to be built. `model.compile_metrics` will be empty until you train or evaluate the model.\n"
     ]
    },
    {
     "name": "stdout",
     "output_type": "stream",
     "text": [
      "\u001b[1m313/313\u001b[0m \u001b[32m━━━━━━━━━━━━━━━━━━━━\u001b[0m\u001b[37m\u001b[0m \u001b[1m0s\u001b[0m 316us/step\n",
      "\u001b[1m313/313\u001b[0m \u001b[32m━━━━━━━━━━━━━━━━━━━━\u001b[0m\u001b[37m\u001b[0m \u001b[1m0s\u001b[0m 272us/step\n"
     ]
    }
   ],
   "source": [
    "# First, create structured data for training set\n",
    "train_set_data = []\n",
    "\n",
    "# Track data for each shadow model\n",
    "for i in np.arange(ns):\n",
    "    model_shadow = load_model(f'UCI_Adult_shadow_{data_size}_{i}.h5')\n",
    "    \n",
    "    # Get predictions from shadow model on its train and test data\n",
    "    shadow_tr_preds = model_shadow.predict(xtr_shadow)\n",
    "    shadow_ts_preds = model_shadow.predict(xts_shadow)\n",
    "    \n",
    "    # Add training samples (members)\n",
    "    for idx in range(len(shadow_tr_preds)):\n",
    "        train_set_data.append({\n",
    "            'prediction': float(shadow_tr_preds[idx]),\n",
    "            'is_member': 0,  # member of training set\n",
    "            'true_label': int(ytr_shadow[idx]),\n",
    "            'model_name': f'shadow_{i}',\n",
    "            'sample_index': idx,\n",
    "            'data_split': 'train'\n",
    "        })\n",
    "    \n",
    "    # Add test samples (non-members)\n",
    "    for idx in range(len(shadow_ts_preds)):\n",
    "        train_set_data.append({\n",
    "            'prediction': float(shadow_ts_preds[idx]),\n",
    "            'is_member': 1,  # non-member (test set)\n",
    "            'true_label': int(yts_shadow[idx]),\n",
    "            'model_name': f'shadow_{i}',\n",
    "            'sample_index': idx,\n",
    "            'data_split': 'test'\n",
    "        })\n",
    "\n",
    "# Convert to DataFrame\n",
    "train_set_df = pd.DataFrame(train_set_data)\n",
    "\n"
   ]
  },
  {
   "cell_type": "code",
   "execution_count": 26,
   "metadata": {},
   "outputs": [
    {
     "data": {
      "text/html": [
       "<div>\n",
       "<style scoped>\n",
       "    .dataframe tbody tr th:only-of-type {\n",
       "        vertical-align: middle;\n",
       "    }\n",
       "\n",
       "    .dataframe tbody tr th {\n",
       "        vertical-align: top;\n",
       "    }\n",
       "\n",
       "    .dataframe thead th {\n",
       "        text-align: right;\n",
       "    }\n",
       "</style>\n",
       "<table border=\"1\" class=\"dataframe\">\n",
       "  <thead>\n",
       "    <tr style=\"text-align: right;\">\n",
       "      <th></th>\n",
       "      <th>prediction</th>\n",
       "      <th>is_member</th>\n",
       "      <th>true_label</th>\n",
       "      <th>model_name</th>\n",
       "      <th>sample_index</th>\n",
       "      <th>data_split</th>\n",
       "    </tr>\n",
       "  </thead>\n",
       "  <tbody>\n",
       "    <tr>\n",
       "      <th>0</th>\n",
       "      <td>0.504088</td>\n",
       "      <td>0</td>\n",
       "      <td>0</td>\n",
       "      <td>shadow_0</td>\n",
       "      <td>0</td>\n",
       "      <td>train</td>\n",
       "    </tr>\n",
       "    <tr>\n",
       "      <th>1</th>\n",
       "      <td>0.298486</td>\n",
       "      <td>0</td>\n",
       "      <td>1</td>\n",
       "      <td>shadow_0</td>\n",
       "      <td>1</td>\n",
       "      <td>train</td>\n",
       "    </tr>\n",
       "    <tr>\n",
       "      <th>2</th>\n",
       "      <td>0.827214</td>\n",
       "      <td>0</td>\n",
       "      <td>1</td>\n",
       "      <td>shadow_0</td>\n",
       "      <td>2</td>\n",
       "      <td>train</td>\n",
       "    </tr>\n",
       "    <tr>\n",
       "      <th>3</th>\n",
       "      <td>0.014987</td>\n",
       "      <td>0</td>\n",
       "      <td>0</td>\n",
       "      <td>shadow_0</td>\n",
       "      <td>3</td>\n",
       "      <td>train</td>\n",
       "    </tr>\n",
       "    <tr>\n",
       "      <th>4</th>\n",
       "      <td>0.526238</td>\n",
       "      <td>0</td>\n",
       "      <td>0</td>\n",
       "      <td>shadow_0</td>\n",
       "      <td>4</td>\n",
       "      <td>train</td>\n",
       "    </tr>\n",
       "    <tr>\n",
       "      <th>...</th>\n",
       "      <td>...</td>\n",
       "      <td>...</td>\n",
       "      <td>...</td>\n",
       "      <td>...</td>\n",
       "      <td>...</td>\n",
       "      <td>...</td>\n",
       "    </tr>\n",
       "    <tr>\n",
       "      <th>99995</th>\n",
       "      <td>0.010776</td>\n",
       "      <td>1</td>\n",
       "      <td>0</td>\n",
       "      <td>shadow_4</td>\n",
       "      <td>9995</td>\n",
       "      <td>test</td>\n",
       "    </tr>\n",
       "    <tr>\n",
       "      <th>99996</th>\n",
       "      <td>0.362464</td>\n",
       "      <td>1</td>\n",
       "      <td>1</td>\n",
       "      <td>shadow_4</td>\n",
       "      <td>9996</td>\n",
       "      <td>test</td>\n",
       "    </tr>\n",
       "    <tr>\n",
       "      <th>99997</th>\n",
       "      <td>0.710084</td>\n",
       "      <td>1</td>\n",
       "      <td>0</td>\n",
       "      <td>shadow_4</td>\n",
       "      <td>9997</td>\n",
       "      <td>test</td>\n",
       "    </tr>\n",
       "    <tr>\n",
       "      <th>99998</th>\n",
       "      <td>0.729532</td>\n",
       "      <td>1</td>\n",
       "      <td>1</td>\n",
       "      <td>shadow_4</td>\n",
       "      <td>9998</td>\n",
       "      <td>test</td>\n",
       "    </tr>\n",
       "    <tr>\n",
       "      <th>99999</th>\n",
       "      <td>0.002955</td>\n",
       "      <td>1</td>\n",
       "      <td>0</td>\n",
       "      <td>shadow_4</td>\n",
       "      <td>9999</td>\n",
       "      <td>test</td>\n",
       "    </tr>\n",
       "  </tbody>\n",
       "</table>\n",
       "<p>100000 rows × 6 columns</p>\n",
       "</div>"
      ],
      "text/plain": [
       "       prediction  is_member  true_label model_name  sample_index data_split\n",
       "0        0.504088          0           0   shadow_0             0      train\n",
       "1        0.298486          0           1   shadow_0             1      train\n",
       "2        0.827214          0           1   shadow_0             2      train\n",
       "3        0.014987          0           0   shadow_0             3      train\n",
       "4        0.526238          0           0   shadow_0             4      train\n",
       "...           ...        ...         ...        ...           ...        ...\n",
       "99995    0.010776          1           0   shadow_4          9995       test\n",
       "99996    0.362464          1           1   shadow_4          9996       test\n",
       "99997    0.710084          1           0   shadow_4          9997       test\n",
       "99998    0.729532          1           1   shadow_4          9998       test\n",
       "99999    0.002955          1           0   shadow_4          9999       test\n",
       "\n",
       "[100000 rows x 6 columns]"
      ]
     },
     "execution_count": 26,
     "metadata": {},
     "output_type": "execute_result"
    }
   ],
   "source": [
    "train_set_df"
   ]
  },
  {
   "cell_type": "code",
   "execution_count": 38,
   "metadata": {},
   "outputs": [
    {
     "name": "stderr",
     "output_type": "stream",
     "text": [
      "/media/emanuel/sdd_sata/projetos/projeto_mestrado_ofc/.venv/lib/python3.12/site-packages/keras/src/layers/core/dense.py:87: UserWarning: Do not pass an `input_shape`/`input_dim` argument to a layer. When using Sequential models, prefer using an `Input(shape)` object as the first layer in the model instead.\n",
      "  super().__init__(activity_regularizer=activity_regularizer, **kwargs)\n",
      "/media/emanuel/sdd_sata/projetos/projeto_mestrado_ofc/.venv/lib/python3.12/site-packages/keras/src/optimizers/base_optimizer.py:86: UserWarning: Argument `decay` is no longer supported and will be ignored.\n",
      "  warnings.warn(\n"
     ]
    },
    {
     "ename": "ValueError",
     "evalue": "Data cardinality is ambiguous. Make sure all arrays contain the same number of samples.'x' sizes: 20000\n'y' sizes: 100000\n",
     "output_type": "error",
     "traceback": [
      "\u001b[0;31m---------------------------------------------------------------------------\u001b[0m",
      "\u001b[0;31mValueError\u001b[0m                                Traceback (most recent call last)",
      "Cell \u001b[0;32mIn[38], line 51\u001b[0m\n\u001b[1;32m     48\u001b[0m model_attack\u001b[38;5;241m.\u001b[39mcompile(loss\u001b[38;5;241m=\u001b[39m\u001b[38;5;124m'\u001b[39m\u001b[38;5;124mbinary_crossentropy\u001b[39m\u001b[38;5;124m'\u001b[39m, optimizer\u001b[38;5;241m=\u001b[39mopt, metrics\u001b[38;5;241m=\u001b[39m[\u001b[38;5;124m'\u001b[39m\u001b[38;5;124maccuracy\u001b[39m\u001b[38;5;124m'\u001b[39m])\n\u001b[1;32m     50\u001b[0m \u001b[38;5;66;03m# Train the model with the difference features\u001b[39;00m\n\u001b[0;32m---> 51\u001b[0m hist_attack \u001b[38;5;241m=\u001b[39m \u001b[43mmodel_attack\u001b[49m\u001b[38;5;241;43m.\u001b[39;49m\u001b[43mfit\u001b[49m\u001b[43m(\u001b[49m\n\u001b[1;32m     52\u001b[0m \u001b[43m    \u001b[49m\u001b[43mX_train_diff\u001b[49m\u001b[43m,\u001b[49m\u001b[43m \u001b[49m\u001b[43mtrain_set_df\u001b[49m\u001b[43m[\u001b[49m\u001b[38;5;124;43m'\u001b[39;49m\u001b[38;5;124;43mis_member\u001b[39;49m\u001b[38;5;124;43m'\u001b[39;49m\u001b[43m]\u001b[49m\u001b[38;5;241;43m.\u001b[39;49m\u001b[43mvalues\u001b[49m\u001b[43m,\u001b[49m\n\u001b[1;32m     53\u001b[0m \u001b[43m    \u001b[49m\u001b[43mbatch_size\u001b[49m\u001b[38;5;241;43m=\u001b[39;49m\u001b[38;5;241;43m32\u001b[39;49m\u001b[43m,\u001b[49m\n\u001b[1;32m     54\u001b[0m \u001b[43m    \u001b[49m\u001b[43mepochs\u001b[49m\u001b[38;5;241;43m=\u001b[39;49m\u001b[38;5;241;43m100\u001b[39;49m\u001b[43m,\u001b[49m\n\u001b[1;32m     55\u001b[0m \u001b[43m    \u001b[49m\u001b[43mvalidation_data\u001b[49m\u001b[38;5;241;43m=\u001b[39;49m\u001b[43m(\u001b[49m\u001b[43mX_test_diff\u001b[49m\u001b[43m,\u001b[49m\u001b[43m \u001b[49m\u001b[43mtest_set_df\u001b[49m\u001b[43m[\u001b[49m\u001b[38;5;124;43m'\u001b[39;49m\u001b[38;5;124;43mis_member\u001b[39;49m\u001b[38;5;124;43m'\u001b[39;49m\u001b[43m]\u001b[49m\u001b[38;5;241;43m.\u001b[39;49m\u001b[43mvalues\u001b[49m\u001b[43m)\u001b[49m\u001b[43m,\u001b[49m\n\u001b[1;32m     56\u001b[0m \u001b[43m    \u001b[49m\u001b[43mshuffle\u001b[49m\u001b[38;5;241;43m=\u001b[39;49m\u001b[38;5;28;43;01mTrue\u001b[39;49;00m\u001b[43m,\u001b[49m\n\u001b[1;32m     57\u001b[0m \u001b[43m    \u001b[49m\u001b[43mverbose\u001b[49m\u001b[38;5;241;43m=\u001b[39;49m\u001b[38;5;241;43m0\u001b[39;49m\n\u001b[1;32m     58\u001b[0m \u001b[43m)\u001b[49m\n\u001b[1;32m     60\u001b[0m \u001b[38;5;66;03m# Create SHAP explainer with the difference features\u001b[39;00m\n\u001b[1;32m     61\u001b[0m explainer \u001b[38;5;241m=\u001b[39m shap\u001b[38;5;241m.\u001b[39mExplainer(model_attack, X_train_diff[:\u001b[38;5;241m1000\u001b[39m])\n",
      "File \u001b[0;32m/media/emanuel/sdd_sata/projetos/projeto_mestrado_ofc/.venv/lib/python3.12/site-packages/keras/src/utils/traceback_utils.py:122\u001b[0m, in \u001b[0;36mfilter_traceback.<locals>.error_handler\u001b[0;34m(*args, **kwargs)\u001b[0m\n\u001b[1;32m    119\u001b[0m     filtered_tb \u001b[38;5;241m=\u001b[39m _process_traceback_frames(e\u001b[38;5;241m.\u001b[39m__traceback__)\n\u001b[1;32m    120\u001b[0m     \u001b[38;5;66;03m# To get the full stack trace, call:\u001b[39;00m\n\u001b[1;32m    121\u001b[0m     \u001b[38;5;66;03m# `keras.config.disable_traceback_filtering()`\u001b[39;00m\n\u001b[0;32m--> 122\u001b[0m     \u001b[38;5;28;01mraise\u001b[39;00m e\u001b[38;5;241m.\u001b[39mwith_traceback(filtered_tb) \u001b[38;5;28;01mfrom\u001b[39;00m\u001b[38;5;250m \u001b[39m\u001b[38;5;28;01mNone\u001b[39;00m\n\u001b[1;32m    123\u001b[0m \u001b[38;5;28;01mfinally\u001b[39;00m:\n\u001b[1;32m    124\u001b[0m     \u001b[38;5;28;01mdel\u001b[39;00m filtered_tb\n",
      "File \u001b[0;32m/media/emanuel/sdd_sata/projetos/projeto_mestrado_ofc/.venv/lib/python3.12/site-packages/keras/src/trainers/data_adapters/data_adapter_utils.py:115\u001b[0m, in \u001b[0;36mcheck_data_cardinality\u001b[0;34m(data)\u001b[0m\n\u001b[1;32m    111\u001b[0m     sizes \u001b[38;5;241m=\u001b[39m \u001b[38;5;124m\"\u001b[39m\u001b[38;5;124m, \u001b[39m\u001b[38;5;124m\"\u001b[39m\u001b[38;5;241m.\u001b[39mjoin(\n\u001b[1;32m    112\u001b[0m         \u001b[38;5;28mstr\u001b[39m(i\u001b[38;5;241m.\u001b[39mshape[\u001b[38;5;241m0\u001b[39m]) \u001b[38;5;28;01mfor\u001b[39;00m i \u001b[38;5;129;01min\u001b[39;00m tree\u001b[38;5;241m.\u001b[39mflatten(single_data)\n\u001b[1;32m    113\u001b[0m     )\n\u001b[1;32m    114\u001b[0m     msg \u001b[38;5;241m+\u001b[39m\u001b[38;5;241m=\u001b[39m \u001b[38;5;124mf\u001b[39m\u001b[38;5;124m\"\u001b[39m\u001b[38;5;124m'\u001b[39m\u001b[38;5;132;01m{\u001b[39;00mlabel\u001b[38;5;132;01m}\u001b[39;00m\u001b[38;5;124m'\u001b[39m\u001b[38;5;124m sizes: \u001b[39m\u001b[38;5;132;01m{\u001b[39;00msizes\u001b[38;5;132;01m}\u001b[39;00m\u001b[38;5;130;01m\\n\u001b[39;00m\u001b[38;5;124m\"\u001b[39m\n\u001b[0;32m--> 115\u001b[0m \u001b[38;5;28;01mraise\u001b[39;00m \u001b[38;5;167;01mValueError\u001b[39;00m(msg)\n",
      "\u001b[0;31mValueError\u001b[0m: Data cardinality is ambiguous. Make sure all arrays contain the same number of samples.'x' sizes: 20000\n'y' sizes: 100000\n"
     ]
    }
   ],
   "source": [
    "# Create the difference features for both training and test sets\n",
    "def create_model_differences_dataset(df):\n",
    "    \"\"\"Creates features based on differences between model predictions\"\"\"\n",
    "    # Pivot the predictions to get one column per model\n",
    "    model_predictions = pd.pivot_table(\n",
    "        df,\n",
    "        values='prediction',\n",
    "        index=['sample_index', 'data_split'],\n",
    "        columns='model_name',\n",
    "        aggfunc='first'\n",
    "    ).reset_index()\n",
    "    \n",
    "    # Get reference shadow model (first one)\n",
    "    reference_model = [col for col in model_predictions.columns if 'shadow_0' in col][0]\n",
    "    \n",
    "    # Calculate differences between shadow models\n",
    "    difference_features = []\n",
    "    feature_names = []\n",
    "    \n",
    "    # Get all shadow model names except the reference\n",
    "    shadow_models = [col for col in model_predictions.columns \n",
    "                    if 'shadow' in col and col != reference_model]\n",
    "    \n",
    "    # Calculate differences between shadow models\n",
    "    for shadow in shadow_models:\n",
    "        diff_col = f'diff_{shadow}_{reference_model}'\n",
    "        model_predictions[diff_col] = model_predictions[shadow] - model_predictions[reference_model]\n",
    "        difference_features.append(model_predictions[diff_col])\n",
    "        feature_names.append(f'Difference ({shadow} - {reference_model})')\n",
    "    \n",
    "    # Stack differences into a numpy array\n",
    "    X_diff = np.column_stack(difference_features)\n",
    "    \n",
    "    return X_diff, feature_names\n",
    "\n",
    "# Create difference features for training and test sets\n",
    "X_train_diff, feature_names = create_model_differences_dataset(train_set_df)\n",
    "X_test_diff, _ = create_model_differences_dataset(test_set_df)\n",
    "\n",
    "# Create and train the modified attack model\n",
    "num_differences = len(feature_names)  # number of difference features\n",
    "model_attack = Sequential([\n",
    "    Dense(5, input_shape=(num_differences,), activation='sigmoid', name='hidden'),\n",
    "    Dense(1, activation='sigmoid', name='output')\n",
    "])\n",
    "\n",
    "opt = keras.optimizers.Adam(learning_rate=0.001, decay=1e-7)\n",
    "model_attack.compile(loss='binary_crossentropy', optimizer=opt, metrics=['accuracy'])\n",
    "\n",
    "# Train the model with the difference features\n",
    "hist_attack = model_attack.fit(\n",
    "    X_train_diff, train_set_df['is_member'].values,\n",
    "    batch_size=32,\n",
    "    epochs=100,\n",
    "    validation_data=(X_test_diff, test_set_df['is_member'].values),\n",
    "    shuffle=True,\n",
    "    verbose=0\n",
    ")\n",
    "\n",
    "# Create SHAP explainer with the difference features\n",
    "explainer = shap.Explainer(model_attack, X_train_diff[:1000])\n",
    "shap_values = explainer(X_test_diff)\n",
    "\n",
    "# Plot SHAP summary\n",
    "plt.figure(figsize=(10, 6))\n",
    "shap.summary_plot(\n",
    "    shap_values, \n",
    "    X_test_diff,\n",
    "    feature_names=feature_names,\n",
    "    show=False\n",
    ")\n",
    "plt.title(\"SHAP Values for Model Differences\")\n",
    "plt.tight_layout()\n",
    "plt.show()\n",
    "\n",
    "# Save the complete tracked datasets\n",
    "tracking_data = {\n",
    "    'train_set': train_set_df,\n",
    "    'test_set': test_set_df,\n",
    "    'X_train_diff': X_train_diff,\n",
    "    'X_test_diff': X_test_diff,\n",
    "    'feature_names': feature_names,\n",
    "    'shap_values': shap_values.values\n",
    "}\n",
    "np.save(f'./mia_tracking_data_{data_size}.npy', tracking_data)"
   ]
  },
  {
   "cell_type": "code",
   "execution_count": 33,
   "metadata": {},
   "outputs": [
    {
     "data": {
      "text/html": [
       "<div>\n",
       "<style scoped>\n",
       "    .dataframe tbody tr th:only-of-type {\n",
       "        vertical-align: middle;\n",
       "    }\n",
       "\n",
       "    .dataframe tbody tr th {\n",
       "        vertical-align: top;\n",
       "    }\n",
       "\n",
       "    .dataframe thead th {\n",
       "        text-align: right;\n",
       "    }\n",
       "</style>\n",
       "<table border=\"1\" class=\"dataframe\">\n",
       "  <thead>\n",
       "    <tr style=\"text-align: right;\">\n",
       "      <th></th>\n",
       "      <th>prediction</th>\n",
       "      <th>is_member</th>\n",
       "      <th>true_label</th>\n",
       "      <th>model_name</th>\n",
       "      <th>sample_index</th>\n",
       "      <th>data_split</th>\n",
       "    </tr>\n",
       "  </thead>\n",
       "  <tbody>\n",
       "    <tr>\n",
       "      <th>0</th>\n",
       "      <td>0.504088</td>\n",
       "      <td>0</td>\n",
       "      <td>0</td>\n",
       "      <td>shadow_0</td>\n",
       "      <td>0</td>\n",
       "      <td>train</td>\n",
       "    </tr>\n",
       "    <tr>\n",
       "      <th>1</th>\n",
       "      <td>0.298486</td>\n",
       "      <td>0</td>\n",
       "      <td>1</td>\n",
       "      <td>shadow_0</td>\n",
       "      <td>1</td>\n",
       "      <td>train</td>\n",
       "    </tr>\n",
       "    <tr>\n",
       "      <th>2</th>\n",
       "      <td>0.827214</td>\n",
       "      <td>0</td>\n",
       "      <td>1</td>\n",
       "      <td>shadow_0</td>\n",
       "      <td>2</td>\n",
       "      <td>train</td>\n",
       "    </tr>\n",
       "    <tr>\n",
       "      <th>3</th>\n",
       "      <td>0.014987</td>\n",
       "      <td>0</td>\n",
       "      <td>0</td>\n",
       "      <td>shadow_0</td>\n",
       "      <td>3</td>\n",
       "      <td>train</td>\n",
       "    </tr>\n",
       "    <tr>\n",
       "      <th>4</th>\n",
       "      <td>0.526238</td>\n",
       "      <td>0</td>\n",
       "      <td>0</td>\n",
       "      <td>shadow_0</td>\n",
       "      <td>4</td>\n",
       "      <td>train</td>\n",
       "    </tr>\n",
       "    <tr>\n",
       "      <th>...</th>\n",
       "      <td>...</td>\n",
       "      <td>...</td>\n",
       "      <td>...</td>\n",
       "      <td>...</td>\n",
       "      <td>...</td>\n",
       "      <td>...</td>\n",
       "    </tr>\n",
       "    <tr>\n",
       "      <th>99995</th>\n",
       "      <td>0.010776</td>\n",
       "      <td>1</td>\n",
       "      <td>0</td>\n",
       "      <td>shadow_4</td>\n",
       "      <td>9995</td>\n",
       "      <td>test</td>\n",
       "    </tr>\n",
       "    <tr>\n",
       "      <th>99996</th>\n",
       "      <td>0.362464</td>\n",
       "      <td>1</td>\n",
       "      <td>1</td>\n",
       "      <td>shadow_4</td>\n",
       "      <td>9996</td>\n",
       "      <td>test</td>\n",
       "    </tr>\n",
       "    <tr>\n",
       "      <th>99997</th>\n",
       "      <td>0.710084</td>\n",
       "      <td>1</td>\n",
       "      <td>0</td>\n",
       "      <td>shadow_4</td>\n",
       "      <td>9997</td>\n",
       "      <td>test</td>\n",
       "    </tr>\n",
       "    <tr>\n",
       "      <th>99998</th>\n",
       "      <td>0.729532</td>\n",
       "      <td>1</td>\n",
       "      <td>1</td>\n",
       "      <td>shadow_4</td>\n",
       "      <td>9998</td>\n",
       "      <td>test</td>\n",
       "    </tr>\n",
       "    <tr>\n",
       "      <th>99999</th>\n",
       "      <td>0.002955</td>\n",
       "      <td>1</td>\n",
       "      <td>0</td>\n",
       "      <td>shadow_4</td>\n",
       "      <td>9999</td>\n",
       "      <td>test</td>\n",
       "    </tr>\n",
       "  </tbody>\n",
       "</table>\n",
       "<p>100000 rows × 6 columns</p>\n",
       "</div>"
      ],
      "text/plain": [
       "       prediction  is_member  true_label model_name  sample_index data_split\n",
       "0        0.504088          0           0   shadow_0             0      train\n",
       "1        0.298486          0           1   shadow_0             1      train\n",
       "2        0.827214          0           1   shadow_0             2      train\n",
       "3        0.014987          0           0   shadow_0             3      train\n",
       "4        0.526238          0           0   shadow_0             4      train\n",
       "...           ...        ...         ...        ...           ...        ...\n",
       "99995    0.010776          1           0   shadow_4          9995       test\n",
       "99996    0.362464          1           1   shadow_4          9996       test\n",
       "99997    0.710084          1           0   shadow_4          9997       test\n",
       "99998    0.729532          1           1   shadow_4          9998       test\n",
       "99999    0.002955          1           0   shadow_4          9999       test\n",
       "\n",
       "[100000 rows x 6 columns]"
      ]
     },
     "execution_count": 33,
     "metadata": {},
     "output_type": "execute_result"
    }
   ],
   "source": [
    "train_set_df"
   ]
  },
  {
   "cell_type": "code",
   "execution_count": 39,
   "metadata": {},
   "outputs": [
    {
     "data": {
      "text/plain": [
       "(20000, 4)"
      ]
     },
     "execution_count": 39,
     "metadata": {},
     "output_type": "execute_result"
    }
   ],
   "source": [
    "X_train_diff.shape"
   ]
  },
  {
   "cell_type": "code",
   "execution_count": null,
   "metadata": {},
   "outputs": [],
   "source": []
  },
  {
   "cell_type": "code",
   "execution_count": 40,
   "metadata": {},
   "outputs": [
    {
     "name": "stdout",
     "output_type": "stream",
     "text": [
      "Shape of xtr_att: (100000, 1)\n",
      "Shape of ytr_att: (100000, 1)\n"
     ]
    },
    {
     "name": "stderr",
     "output_type": "stream",
     "text": [
      "/tmp/ipykernel_83135/3721421044.py:21: DeprecationWarning: Conversion of an array with ndim > 0 to a scalar is deprecated, and will error in future. Ensure you extract a single element from your array before performing this operation. (Deprecated NumPy 1.25.)\n",
      "  'prediction': float(model_preds[idx]),\n",
      "/tmp/ipykernel_83135/3721421044.py:22: DeprecationWarning: Conversion of an array with ndim > 0 to a scalar is deprecated, and will error in future. Ensure you extract a single element from your array before performing this operation. (Deprecated NumPy 1.25.)\n",
      "  'is_member': float(model_labels[idx]),\n",
      "/tmp/ipykernel_83135/3721421044.py:32: DeprecationWarning: Conversion of an array with ndim > 0 to a scalar is deprecated, and will error in future. Ensure you extract a single element from your array before performing this operation. (Deprecated NumPy 1.25.)\n",
      "  'prediction': float(model_preds[data_size + idx]),\n",
      "/tmp/ipykernel_83135/3721421044.py:33: DeprecationWarning: Conversion of an array with ndim > 0 to a scalar is deprecated, and will error in future. Ensure you extract a single element from your array before performing this operation. (Deprecated NumPy 1.25.)\n",
      "  'is_member': float(model_labels[data_size + idx]),\n"
     ]
    },
    {
     "name": "stdout",
     "output_type": "stream",
     "text": [
      "Number of samples in train_set_df: 100000\n",
      "Shape of X_train_diff: (20000, 4)\n",
      "Shape of training labels: (100000,)\n",
      "Shape of X_test_diff: (20000, 4)\n",
      "Shape of test labels: (30000,)\n"
     ]
    },
    {
     "name": "stderr",
     "output_type": "stream",
     "text": [
      "/media/emanuel/sdd_sata/projetos/projeto_mestrado_ofc/.venv/lib/python3.12/site-packages/keras/src/layers/core/dense.py:87: UserWarning: Do not pass an `input_shape`/`input_dim` argument to a layer. When using Sequential models, prefer using an `Input(shape)` object as the first layer in the model instead.\n",
      "  super().__init__(activity_regularizer=activity_regularizer, **kwargs)\n",
      "/media/emanuel/sdd_sata/projetos/projeto_mestrado_ofc/.venv/lib/python3.12/site-packages/keras/src/optimizers/base_optimizer.py:86: UserWarning: Argument `decay` is no longer supported and will be ignored.\n",
      "  warnings.warn(\n"
     ]
    },
    {
     "ename": "ValueError",
     "evalue": "Data cardinality is ambiguous. Make sure all arrays contain the same number of samples.'x' sizes: 20000\n'y' sizes: 100000\n",
     "output_type": "error",
     "traceback": [
      "\u001b[0;31m---------------------------------------------------------------------------\u001b[0m",
      "\u001b[0;31mValueError\u001b[0m                                Traceback (most recent call last)",
      "Cell \u001b[0;32mIn[40], line 100\u001b[0m\n\u001b[1;32m     97\u001b[0m model_attack\u001b[38;5;241m.\u001b[39mcompile(loss\u001b[38;5;241m=\u001b[39m\u001b[38;5;124m'\u001b[39m\u001b[38;5;124mbinary_crossentropy\u001b[39m\u001b[38;5;124m'\u001b[39m, optimizer\u001b[38;5;241m=\u001b[39mopt, metrics\u001b[38;5;241m=\u001b[39m[\u001b[38;5;124m'\u001b[39m\u001b[38;5;124maccuracy\u001b[39m\u001b[38;5;124m'\u001b[39m])\n\u001b[1;32m     99\u001b[0m \u001b[38;5;66;03m# Train the model with the difference features\u001b[39;00m\n\u001b[0;32m--> 100\u001b[0m hist_attack \u001b[38;5;241m=\u001b[39m \u001b[43mmodel_attack\u001b[49m\u001b[38;5;241;43m.\u001b[39;49m\u001b[43mfit\u001b[49m\u001b[43m(\u001b[49m\n\u001b[1;32m    101\u001b[0m \u001b[43m    \u001b[49m\u001b[43mX_train_diff\u001b[49m\u001b[43m,\u001b[49m\u001b[43m \u001b[49m\u001b[43mtrain_set_df\u001b[49m\u001b[43m[\u001b[49m\u001b[38;5;124;43m'\u001b[39;49m\u001b[38;5;124;43mis_member\u001b[39;49m\u001b[38;5;124;43m'\u001b[39;49m\u001b[43m]\u001b[49m\u001b[38;5;241;43m.\u001b[39;49m\u001b[43mvalues\u001b[49m\u001b[43m,\u001b[49m\n\u001b[1;32m    102\u001b[0m \u001b[43m    \u001b[49m\u001b[43mbatch_size\u001b[49m\u001b[38;5;241;43m=\u001b[39;49m\u001b[38;5;241;43m32\u001b[39;49m\u001b[43m,\u001b[49m\n\u001b[1;32m    103\u001b[0m \u001b[43m    \u001b[49m\u001b[43mepochs\u001b[49m\u001b[38;5;241;43m=\u001b[39;49m\u001b[38;5;241;43m100\u001b[39;49m\u001b[43m,\u001b[49m\n\u001b[1;32m    104\u001b[0m \u001b[43m    \u001b[49m\u001b[43mvalidation_data\u001b[49m\u001b[38;5;241;43m=\u001b[39;49m\u001b[43m(\u001b[49m\u001b[43mX_test_diff\u001b[49m\u001b[43m,\u001b[49m\u001b[43m \u001b[49m\u001b[43mtest_set_df\u001b[49m\u001b[43m[\u001b[49m\u001b[38;5;124;43m'\u001b[39;49m\u001b[38;5;124;43mis_member\u001b[39;49m\u001b[38;5;124;43m'\u001b[39;49m\u001b[43m]\u001b[49m\u001b[38;5;241;43m.\u001b[39;49m\u001b[43mvalues\u001b[49m\u001b[43m)\u001b[49m\u001b[43m,\u001b[49m\n\u001b[1;32m    105\u001b[0m \u001b[43m    \u001b[49m\u001b[43mshuffle\u001b[49m\u001b[38;5;241;43m=\u001b[39;49m\u001b[38;5;28;43;01mTrue\u001b[39;49;00m\u001b[43m,\u001b[49m\n\u001b[1;32m    106\u001b[0m \u001b[43m    \u001b[49m\u001b[43mverbose\u001b[49m\u001b[38;5;241;43m=\u001b[39;49m\u001b[38;5;241;43m1\u001b[39;49m\n\u001b[1;32m    107\u001b[0m \u001b[43m)\u001b[49m\n",
      "File \u001b[0;32m/media/emanuel/sdd_sata/projetos/projeto_mestrado_ofc/.venv/lib/python3.12/site-packages/keras/src/utils/traceback_utils.py:122\u001b[0m, in \u001b[0;36mfilter_traceback.<locals>.error_handler\u001b[0;34m(*args, **kwargs)\u001b[0m\n\u001b[1;32m    119\u001b[0m     filtered_tb \u001b[38;5;241m=\u001b[39m _process_traceback_frames(e\u001b[38;5;241m.\u001b[39m__traceback__)\n\u001b[1;32m    120\u001b[0m     \u001b[38;5;66;03m# To get the full stack trace, call:\u001b[39;00m\n\u001b[1;32m    121\u001b[0m     \u001b[38;5;66;03m# `keras.config.disable_traceback_filtering()`\u001b[39;00m\n\u001b[0;32m--> 122\u001b[0m     \u001b[38;5;28;01mraise\u001b[39;00m e\u001b[38;5;241m.\u001b[39mwith_traceback(filtered_tb) \u001b[38;5;28;01mfrom\u001b[39;00m\u001b[38;5;250m \u001b[39m\u001b[38;5;28;01mNone\u001b[39;00m\n\u001b[1;32m    123\u001b[0m \u001b[38;5;28;01mfinally\u001b[39;00m:\n\u001b[1;32m    124\u001b[0m     \u001b[38;5;28;01mdel\u001b[39;00m filtered_tb\n",
      "File \u001b[0;32m/media/emanuel/sdd_sata/projetos/projeto_mestrado_ofc/.venv/lib/python3.12/site-packages/keras/src/trainers/data_adapters/data_adapter_utils.py:115\u001b[0m, in \u001b[0;36mcheck_data_cardinality\u001b[0;34m(data)\u001b[0m\n\u001b[1;32m    111\u001b[0m     sizes \u001b[38;5;241m=\u001b[39m \u001b[38;5;124m\"\u001b[39m\u001b[38;5;124m, \u001b[39m\u001b[38;5;124m\"\u001b[39m\u001b[38;5;241m.\u001b[39mjoin(\n\u001b[1;32m    112\u001b[0m         \u001b[38;5;28mstr\u001b[39m(i\u001b[38;5;241m.\u001b[39mshape[\u001b[38;5;241m0\u001b[39m]) \u001b[38;5;28;01mfor\u001b[39;00m i \u001b[38;5;129;01min\u001b[39;00m tree\u001b[38;5;241m.\u001b[39mflatten(single_data)\n\u001b[1;32m    113\u001b[0m     )\n\u001b[1;32m    114\u001b[0m     msg \u001b[38;5;241m+\u001b[39m\u001b[38;5;241m=\u001b[39m \u001b[38;5;124mf\u001b[39m\u001b[38;5;124m\"\u001b[39m\u001b[38;5;124m'\u001b[39m\u001b[38;5;132;01m{\u001b[39;00mlabel\u001b[38;5;132;01m}\u001b[39;00m\u001b[38;5;124m'\u001b[39m\u001b[38;5;124m sizes: \u001b[39m\u001b[38;5;132;01m{\u001b[39;00msizes\u001b[38;5;132;01m}\u001b[39;00m\u001b[38;5;130;01m\\n\u001b[39;00m\u001b[38;5;124m\"\u001b[39m\n\u001b[0;32m--> 115\u001b[0m \u001b[38;5;28;01mraise\u001b[39;00m \u001b[38;5;167;01mValueError\u001b[39;00m(msg)\n",
      "\u001b[0;31mValueError\u001b[0m: Data cardinality is ambiguous. Make sure all arrays contain the same number of samples.'x' sizes: 20000\n'y' sizes: 100000\n"
     ]
    }
   ],
   "source": [
    "# Print shapes to debug\n",
    "print(\"Shape of xtr_att:\", xtr_att.shape)\n",
    "print(\"Shape of ytr_att:\", ytr_att.shape)\n",
    "\n",
    "# First, create structured data for training set with correct shapes\n",
    "train_set_data = []\n",
    "\n",
    "# Track data for each shadow model\n",
    "for i in np.arange(ns):\n",
    "    start_idx = i * 2 * data_size\n",
    "    end_idx = (i + 1) * 2 * data_size\n",
    "    \n",
    "    # Get the predictions and labels for this shadow model\n",
    "    model_preds = xtr_att[start_idx:end_idx]\n",
    "    model_labels = ytr_att[start_idx:end_idx]\n",
    "    true_labels = xtr_att_truelabels[start_idx:end_idx]\n",
    "    \n",
    "    # First half is training data (members)\n",
    "    for idx in range(data_size):\n",
    "        train_set_data.append({\n",
    "            'prediction': float(model_preds[idx]),\n",
    "            'is_member': float(model_labels[idx]),\n",
    "            'true_label': int(true_labels[idx]),\n",
    "            'model_name': f'shadow_{i}',\n",
    "            'sample_index': idx,\n",
    "            'data_split': 'train'\n",
    "        })\n",
    "    \n",
    "    # Second half is test data (non-members)\n",
    "    for idx in range(data_size):\n",
    "        train_set_data.append({\n",
    "            'prediction': float(model_preds[data_size + idx]),\n",
    "            'is_member': float(model_labels[data_size + idx]),\n",
    "            'true_label': int(true_labels[data_size + idx]),\n",
    "            'model_name': f'shadow_{i}',\n",
    "            'sample_index': idx,\n",
    "            'data_split': 'test'\n",
    "        })\n",
    "\n",
    "# Convert to DataFrame\n",
    "train_set_df = pd.DataFrame(train_set_data)\n",
    "\n",
    "print(\"Number of samples in train_set_df:\", len(train_set_df))\n",
    "\n",
    "# Create the difference features for both training and test sets\n",
    "def create_model_differences_dataset(df):\n",
    "    \"\"\"Creates features based on differences between model predictions\"\"\"\n",
    "    # Pivot the predictions to get one column per model\n",
    "    model_predictions = pd.pivot_table(\n",
    "        df,\n",
    "        values='prediction',\n",
    "        index=['sample_index', 'data_split'],\n",
    "        columns='model_name',\n",
    "        aggfunc='first'\n",
    "    ).reset_index()\n",
    "    \n",
    "    # Get reference shadow model (first one)\n",
    "    reference_model = [col for col in model_predictions.columns if 'shadow_0' in col][0]\n",
    "    \n",
    "    # Calculate differences between shadow models\n",
    "    difference_features = []\n",
    "    feature_names = []\n",
    "    \n",
    "    # Get all shadow model names except the reference\n",
    "    shadow_models = [col for col in model_predictions.columns \n",
    "                    if 'shadow' in col and col != reference_model]\n",
    "    \n",
    "    # Calculate differences between shadow models\n",
    "    for shadow in shadow_models:\n",
    "        diff_col = f'diff_{shadow}_{reference_model}'\n",
    "        model_predictions[diff_col] = model_predictions[shadow] - model_predictions[reference_model]\n",
    "        difference_features.append(model_predictions[diff_col])\n",
    "        feature_names.append(f'Difference ({shadow} - {reference_model})')\n",
    "    \n",
    "    # Stack differences into a numpy array\n",
    "    X_diff = np.column_stack(difference_features)\n",
    "    \n",
    "    return X_diff, feature_names, model_predictions\n",
    "\n",
    "# Create difference features for training and test sets\n",
    "X_train_diff, feature_names, train_predictions = create_model_differences_dataset(train_set_df)\n",
    "X_test_diff, _, test_predictions = create_model_differences_dataset(test_set_df)\n",
    "\n",
    "print(\"Shape of X_train_diff:\", X_train_diff.shape)\n",
    "print(\"Shape of training labels:\", train_set_df['is_member'].values.shape)\n",
    "print(\"Shape of X_test_diff:\", X_test_diff.shape)\n",
    "print(\"Shape of test labels:\", test_set_df['is_member'].values.shape)\n",
    "\n",
    "# Create and train the modified attack model\n",
    "num_differences = len(feature_names)  # number of difference features\n",
    "model_attack = Sequential([\n",
    "    Dense(5, input_shape=(num_differences,), activation='sigmoid', name='hidden'),\n",
    "    Dense(1, activation='sigmoid', name='output')\n",
    "])\n",
    "\n",
    "opt = keras.optimizers.Adam(learning_rate=0.001, decay=1e-7)\n",
    "model_attack.compile(loss='binary_crossentropy', optimizer=opt, metrics=['accuracy'])\n",
    "\n",
    "# Train the model with the difference features\n",
    "hist_attack = model_attack.fit(\n",
    "    X_train_diff, train_set_df['is_member'].values,\n",
    "    batch_size=32,\n",
    "    epochs=100,\n",
    "    validation_data=(X_test_diff, test_set_df['is_member'].values),\n",
    "    shuffle=True,\n",
    "    verbose=1\n",
    ")"
   ]
  },
  {
   "cell_type": "code",
   "execution_count": null,
   "metadata": {},
   "outputs": [],
   "source": [
    "Shape of xtr_att: (100000, 1)\n",
    "Shape of ytr_att: (100000, 1)\n",
    "Number of samples in train_set_df: 100000\n",
    "Shape of X_train_diff: (20000, 4)\n",
    "Shape of training labels: (100000,)\n",
    "Shape of X_test_diff: (20000, 4)\n",
    "Shape of test labels: (30000,)"
   ]
  }
 ],
 "metadata": {
  "colab": {
   "provenance": []
  },
  "kernelspec": {
   "display_name": "Python 3 (ipykernel)",
   "language": "python",
   "name": "python3"
  },
  "language_info": {
   "codemirror_mode": {
    "name": "ipython",
    "version": 3
   },
   "file_extension": ".py",
   "mimetype": "text/x-python",
   "name": "python",
   "nbconvert_exporter": "python",
   "pygments_lexer": "ipython3",
   "version": "3.12.3"
  }
 },
 "nbformat": 4,
 "nbformat_minor": 4
}
